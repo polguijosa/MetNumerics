{
  "nbformat": 4,
  "nbformat_minor": 0,
  "metadata": {
    "colab": {
      "name": "09_ODE_ivp_part1.ipynb",
      "version": "0.3.2",
      "provenance": [],
      "collapsed_sections": [],
      "include_colab_link": true
    },
    "kernelspec": {
      "display_name": "Python 3",
      "language": "python",
      "name": "python3"
    }
  },
  "cells": [
    {
      "cell_type": "markdown",
      "metadata": {
        "id": "view-in-github",
        "colab_type": "text"
      },
      "source": [
        "<a href=\"https://colab.research.google.com/github/sergiogf93/MetNumerics/blob/master/notebooks/06_ODEs_IVP.ipynb\" target=\"_parent\"><img src=\"https://colab.research.google.com/assets/colab-badge.svg\" alt=\"Open In Colab\"/></a>"
      ]
    },
    {
      "cell_type": "code",
      "metadata": {
        "id": "jOy333MxsLyg",
        "colab_type": "code",
        "colab": {}
      },
      "source": [
        "%matplotlib inline\n",
        "import numpy\n",
        "import matplotlib.pyplot as plt"
      ],
      "execution_count": 0,
      "outputs": []
    },
    {
      "cell_type": "markdown",
      "metadata": {
        "id": "nJCForeisLy-",
        "colab_type": "text"
      },
      "source": [
        "# Solucions numèriques a problemes EDO de valor inicial"
      ]
    },
    {
      "cell_type": "markdown",
      "metadata": {
        "id": "_tsBVZczsLzH",
        "colab_type": "text"
      },
      "source": [
        "Molts sistemes físics, biològics i socials es poden escriure com un sistema d'equacions diferencials ordinàries (EDOs). En els casos on l'estat (valor) inicial és conegut el problema es pot escriure com\n",
        "\n",
        "$$\n",
        "    \\frac{\\text{d} \\vec{\\!u}}{\\text{d}t} = \\vec{\\!f}(t, \\vec{\\!u}) \\quad \\vec{\\!u}(0) = \\vec{\\!u}_0\n",
        "$$\n",
        "\n",
        "on\n",
        "\n",
        " - $\\vec{\\!u}(t)$ és el vector estat\n",
        " - $\\vec{\\!f}(t, \\vec{\\!u})$ és una funció que controla el canvi de $\\vec{\\!u}$ amb el temps\n",
        " - $\\vec{\\!u}(0)$ és la condició inicial en el tems $t = 0$"
      ]
    },
    {
      "cell_type": "markdown",
      "metadata": {
        "id": "u7gjCpCnsLzL",
        "colab_type": "text"
      },
      "source": [
        "#### Exemples: Desintegració radioactiva simple\n",
        "\n",
        "$$\n",
        "    \\vec{\\!u} = [c]\n",
        "$$\n",
        "   \n",
        "$$\n",
        "    \\frac{\\text{d} c}{\\text{d}t} = \\lambda c \\quad c(0) = c_0\n",
        "$$\n",
        "   \n",
        "\n",
        "les solucions tenen la forma $c(t) = c_0 e^{\\lambda t}$"
      ]
    },
    {
      "cell_type": "code",
      "metadata": {
        "id": "Mbf6MxvtsLzS",
        "colab_type": "code",
        "colab": {}
      },
      "source": [
        "t = numpy.linspace(0.0, 1.6e3, 100)\n",
        "c_0 = 1.0\n",
        "decay_constant = -numpy.log(2.0) / 1600.0\n",
        "\n",
        "fig = plt.figure()\n",
        "axes = fig.add_subplot(1, 1, 1)\n",
        "axes.plot(t, 1.0 * numpy.exp(decay_constant * t))\n",
        "\n",
        "axes.set_title(\"Radioactive Decay with $t_{1/2} = 1600$ years\")\n",
        "axes.set_xlabel('t (years)')\n",
        "axes.set_ylabel('$c$')\n",
        "axes.set_xlim((0.0, 1650))\n",
        "axes.set_ylim((0.5,1.0))\n",
        "plt.show()"
      ],
      "execution_count": 0,
      "outputs": []
    },
    {
      "cell_type": "markdown",
      "metadata": {
        "id": "Ot4q-4wPsLzm",
        "colab_type": "text"
      },
      "source": [
        "#### Exemples:  Desintegració radioactiva complexa (o sistema químic).\n",
        "\n",
        "Cadenes de desintegracions d'una espècie a una altra.\n",
        "\n",
        "$$\\begin{aligned}\n",
        "    \\frac{\\text{d} c_1}{\\text{d}t} &= -\\lambda_1 c_1 \\\\\n",
        "    \\frac{\\text{d} c_2}{\\text{d}t} &= \\lambda_1 c_1 - \\lambda_2 c_2 \\\\\n",
        "    \\frac{\\text{d} c_3}{\\text{d}t} &= \\lambda_2 c_2 - \\lambda_3 c_3 \n",
        "\\end{aligned}$$"
      ]
    },
    {
      "cell_type": "markdown",
      "metadata": {
        "id": "irxs3N-isLzr",
        "colab_type": "text"
      },
      "source": [
        "$$\\frac{\\text{d} \\vec{\\!u}}{\\text{d}t} = \\frac{\\text{d}}{\\text{d}t}\\begin{bmatrix} c_1 \\\\ c_2 \\\\ c_3 \\end{bmatrix} = \n",
        "\\begin{bmatrix} \n",
        "    -\\lambda_1 & 0 & 0 \\\\\n",
        "    \\lambda_1 & -\\lambda_2 & 0 \\\\\n",
        "    0 & \\lambda_2 & -\\lambda_3\n",
        "\\end{bmatrix} \\begin{bmatrix} c_1 \\\\ c_2 \\\\ c_3 \\end{bmatrix}$$\n",
        "\n",
        "$$\\frac{\\text{d} \\vec{\\!u}}{\\text{d}t} = A \\vec{\\!u}$$\n",
        "\n",
        "Per sistemes d'equacions com aquests la solució general de l'EDO és la matriu exponencial:\n",
        "\n",
        "$$\\vec{\\!u}(t) = \\vec{\\!u}_0 e^{A t}$$"
      ]
    },
    {
      "cell_type": "markdown",
      "metadata": {
        "id": "uT59-coOsLzv",
        "colab_type": "text"
      },
      "source": [
        "#### Exemples: Seguiment d'una partícula en un fluid\n",
        "\n",
        "$$\\frac{\\text{d} \\vec{\\!X}}{\\text{d}t} = \\vec{\\!V}(t, \\vec{\\!X})$$\n",
        "\n",
        "The fet tot problema d'EDOs de valors inicial es pot pensar com el seguiment d'una partícula dins camp de flux (sistema dinàmic). En 1-dimensió el flux és determinat per la condició inicial."
      ]
    },
    {
      "cell_type": "markdown",
      "metadata": {
        "id": "IX6i-bJIsLz2",
        "colab_type": "text"
      },
      "source": [
        "#### Exemple: Oscil·lador de Van der Pol\n",
        "\n",
        "$$y'' - \\mu (1 - y^2) y' + y = 0 \\quad \\quad \\text{with} \\quad \\quad  y(0) = y_0, \\quad y'(0) = v_0$$\n",
        " \n",
        "$$\\vec{\\!u} = \\begin{bmatrix} y \\\\ y' \\end{bmatrix} = \\begin{bmatrix} u_1 \\\\ u_2 \\end{bmatrix}$$\n",
        "   \n",
        "$$\\frac{\\text{d}}{\\text{d}t} \\begin{bmatrix} u_1 \\\\ u_2 \\end{bmatrix} = \\begin{bmatrix} u_2 \\\\ \\mu (1 - u_1^2) u_2 - u_1 \\end{bmatrix} = \\vec{\\!f}(t, \\vec{\\!u})$$"
      ]
    },
    {
      "cell_type": "code",
      "metadata": {
        "id": "rSUP9THwv7cZ",
        "colab_type": "code",
        "colab": {}
      },
      "source": [
        "?integrator.integrate"
      ],
      "execution_count": 0,
      "outputs": []
    },
    {
      "cell_type": "code",
      "metadata": {
        "id": "ircrrK5BsLz6",
        "colab_type": "code",
        "colab": {}
      },
      "source": [
        "import scipy.integrate as integrate\n",
        "\n",
        "def f(t, u, mu=5):\n",
        "    return numpy.array([u[1], mu * (1.0 - u[0]**2) * u[1] - u[0]])\n",
        "\n",
        "# N = 100\n",
        "N = 500\n",
        "# N = 1000\n",
        "t = numpy.linspace(0.0, 100, N)\n",
        "u = numpy.empty((2, N))\n",
        "u[:, 0] = [0.1, 0.0]\n",
        "\n",
        "integrator = integrate.ode(f)\n",
        "integrator.set_integrator(\"dopri5\")\n",
        "integrator.set_initial_value(u[:, 0])\n",
        "\n",
        "for (n, t_n) in enumerate(t[1:]):\n",
        "    integrator.integrate(t_n)\n",
        "    if not integrator.successful():\n",
        "        break\n",
        "    u[:, n + 1] = integrator.y\n",
        "    \n",
        "fig = plt.figure()\n",
        "axes = fig.add_subplot(1, 1, 1)\n",
        "\n",
        "axes.plot(t, u[0,:])\n",
        "axes.set_title(\"Solution to Van der Pol Oscillator\")\n",
        "axes.set_xlabel(\"t\")\n",
        "axes.set_ylabel(\"y(t)\")\n",
        "\n",
        "fig = plt.figure()\n",
        "axes = fig.add_subplot(1, 1, 1)\n",
        "\n",
        "axes.plot(u[0,:], u[1, :])\n",
        "axes.plot(u[0,:], u[1, :], 'ro')\n",
        "axes.set_title(\"Phase Diagram for Van der Pol Oscillator\")\n",
        "axes.set_xlabel(\"y(t)\")\n",
        "axes.set_ylabel(\"y '(t)\")\n",
        "\n",
        "plt.show()"
      ],
      "execution_count": 0,
      "outputs": []
    },
    {
      "cell_type": "markdown",
      "metadata": {
        "id": "KWJPCPo6sL0J",
        "colab_type": "text"
      },
      "source": [
        "## Esquèmes bàsics\n",
        "\n",
        "Introduïm notació per simplificar les coses\n",
        "\n",
        "$$\\begin{aligned}\n",
        "    t_0 &= 0 \\\\\n",
        "    t_1 &= t_0 + \\Delta t \\\\\n",
        "    t_n &= t_{n-1} + \\Delta t = n \\Delta t + t_0 \\\\\n",
        "    u_0 &= u(t_0) \\approx U_0 \\\\\n",
        "    u_1 &= u(t_1) \\approx U_1 \\\\\n",
        "    u_n &= u(t_n) \\approx U_2 \\\\\n",
        "\\end{aligned}$$\n",
        "\n",
        "on les lletres en minúscula són \"exactes\"."
      ]
    },
    {
      "cell_type": "markdown",
      "metadata": {
        "id": "3mc_bLN5sL0O",
        "colab_type": "text"
      },
      "source": [
        "Mirant el que hem fet en la diferenciació numèrica; per què no aproximar la derivada com la diferència finita:\n",
        "\n",
        "$$\n",
        "    \\frac{u(t + \\Delta t) - u(t)}{\\Delta t} = f(t, u)\n",
        "$$\n",
        "\n",
        "Encara hem de decidir com evaluar el terme $f(t,u)$ però."
      ]
    },
    {
      "cell_type": "markdown",
      "metadata": {
        "id": "lSRDjXDbsL0U",
        "colab_type": "text"
      },
      "source": [
        "Considerem-ho desde la perspectiva de la quadratura, prenem la integral pels dos costats de la igualtat:\n",
        "\n",
        "$$\\begin{aligned}\n",
        "    \\int^{t + \\Delta t}_t \\frac{\\text{d} u}{\\text{d}\\tilde{\\!t}} d\\tilde{\\!t} &= \\int^{t + \\Delta t}_t f(t, u) d\\tilde{\\!t} \\\\\n",
        "    u(t + \\Delta t) - u(t) &\\approx \\Delta t f(t, u(t))\n",
        "\\end{aligned}$$\n",
        "\n"
      ]
    },
    {
      "cell_type": "markdown",
      "metadata": {
        "id": "J_nm8BcHsL0Y",
        "colab_type": "text"
      },
      "source": [
        "Podem reescriure l'esquema\n",
        "$$\n",
        "    u(t + \\Delta t) - u(t) = \\Delta t f(t, u(t))\n",
        "$$\n",
        "com\n",
        "$$\n",
        "    \\frac{U_{n+1} - U_n}{\\Delta t} = f(t_n, U_n)\n",
        "$$\n",
        "o bé\n",
        "$$\n",
        "    U_{n+1} = U_n + \\Delta t f(t_n, U_n)\n",
        "$$\n",
        "\n",
        "conegut com el *mètode forward d'Euler*. En essència estem aproximant la derivada amb el valor de la funció on estem a $t_n$."
      ]
    },
    {
      "cell_type": "code",
      "metadata": {
        "id": "_dh6m8p-sL0d",
        "colab_type": "code",
        "colab": {}
      },
      "source": [
        "t = numpy.linspace(0.0, 1.6e3, 100)\n",
        "c_0 = 1.0\n",
        "decay_constant = -numpy.log(2.0) / 1600.0\n",
        "\n",
        "fig = plt.figure()\n",
        "axes = fig.add_subplot(1, 1, 1)\n",
        "axes.plot(t, c_0 * numpy.exp(decay_constant * t), label=\"True Solution\")\n",
        "\n",
        "# Plot Euler step\n",
        "dt = 1e3\n",
        "u_np = c_0 + dt * (decay_constant * c_0)\n",
        "axes.plot((0.0, dt), (c_0, u_np), 'k')\n",
        "axes.plot((dt, dt), (u_np, c_0 * numpy.exp(decay_constant * dt)), 'k--')\n",
        "axes.plot((0.0, 0.0), (c_0, u_np), 'k--')\n",
        "axes.plot((0.0, dt), (u_np, u_np), 'k--')\n",
        "axes.text(400, u_np - 0.05, '$\\Delta t$', fontsize=16)\n",
        "\n",
        "axes.set_title(\"Radioactive Decay with $t_{1/2} = 1600$ years\")\n",
        "axes.set_xlabel('t (years)')\n",
        "axes.set_ylabel('$c$')\n",
        "axes.set_xlim(-1e2, 1.6e3)\n",
        "axes.set_ylim((0.5,1.0))\n",
        "axes.legend(loc='best')\n",
        "plt.show()"
      ],
      "execution_count": 0,
      "outputs": []
    },
    {
      "cell_type": "markdown",
      "metadata": {
        "id": "ddjGAHwh0gQ-",
        "colab_type": "text"
      },
      "source": [
        "#### Exercici\n",
        "\n",
        "Implementa el mètode forward d'Euler per aproximar la solució de:\n",
        "\n",
        "$$\n",
        "  f(t,u) = \\frac{du}{dt} = \\lambda u\n",
        "$$\n",
        "\n",
        "\n",
        "Utilitza $u(t=0) = 1$ com a valor inicial i $\\lambda = -\\ln(2)/1600$ com a constant de desintegració.\n",
        "\n",
        "Considera només 10 punts en l'interval [0,1600]. Compara amb la solució real $u(t)=c_0 e^{\\lambda t}$\n",
        "\n"
      ]
    },
    {
      "cell_type": "code",
      "metadata": {
        "id": "_81kbMjo1Utm",
        "colab_type": "code",
        "colab": {}
      },
      "source": [
        "N = 10\n",
        "c_0 = 1.0\n",
        "decay_constant = -numpy.log(2.0) / 1600.0\n",
        "f = lambda t, u: decay_constant * u\n",
        "\n",
        "# Els nostres temps on avaluar la funció són\n",
        "t_exact = numpy.linspace(0.0, 1.6e3, 100)\n",
        "# u_exact = ...\n",
        "\n",
        "# Implementa el mètode forward d'Euler\n",
        "t_euler = numpy.linspace(0.0, 1.6e3, N)\n",
        "# u_euler = ...\n",
        "#\n",
        "#\n",
        "\n",
        "\n",
        "# Fes un plot comparant u_exact amb u_euler en funció del temps"
      ],
      "execution_count": 0,
      "outputs": []
    },
    {
      "cell_type": "code",
      "metadata": {
        "id": "tJzBuIbDsL03",
        "colab_type": "code",
        "cellView": "form",
        "colab": {}
      },
      "source": [
        "#@title\n",
        "N = 10\n",
        "c_0 = 1.0\n",
        "decay_constant = -numpy.log(2.0) / 1600.0\n",
        "f = lambda t, u: decay_constant * u\n",
        "\n",
        "t_exact = numpy.linspace(0.0, 1.6e3, 100)\n",
        "u_exact = c_0 * numpy.exp(decay_constant * t_exact)\n",
        "\n",
        "# Implement Forward Euler\n",
        "t_euler = numpy.linspace(0.0, 1.6e3, N)\n",
        "delta_t = t_euler[1] - t_euler[0]\n",
        "u_euler = numpy.empty(t_euler.shape)\n",
        "u_euler[0] = c_0\n",
        "for (n, t_n) in enumerate(t_euler[:-1]):\n",
        "    u_euler[n + 1] = u_euler[n] + delta_t * f(t_n, u_euler[n])\n",
        "\n",
        "fig = plt.figure()\n",
        "axes = fig.add_subplot(1, 1, 1)\n",
        "axes.plot(t_euler, u_euler, 'or', label=\"Euler\")\n",
        "axes.plot(t_exact, u_exact, 'k--', label=\"True Solution\")\n",
        "\n",
        "axes.set_title(\"Forward Euler\")\n",
        "axes.set_xlabel(\"t (years)\")\n",
        "axes.set_ylabel(\"$c(t)$\")\n",
        "axes.set_ylim((0.4,1.1))\n",
        "axes.legend()\n",
        "plt.show()"
      ],
      "execution_count": 0,
      "outputs": []
    },
    {
      "cell_type": "markdown",
      "metadata": {
        "id": "tegLUGNTsL1F",
        "colab_type": "text"
      },
      "source": [
        "Un mètode similar pot ser derivat si considerem la diferència centrada\n",
        "\n",
        "$$\\frac{U_{n+1} - U_{n-1}}{2\\Delta t} = f(t_{n}, U_{n})$$\n",
        "\n",
        "aquest mètode és conegut com `leap-frog method`. Noteu que s'utilitza una evaluació prèvia de la funció.\n",
        "\n",
        "Vegeu que per trobar $U_1$ caldria tenir $U_{-1}$, que no té sentit en el problema. El procediment a seguir és calcular $U_1$ amb el mètode d'Euler i després calcular la resta d'$U_n$ per $n>1$ amb l'equació anterior. Així doncs, l'algoritme queda:\n",
        "\n",
        "$$\\begin{aligned}\n",
        "  U_0 &= c_0 \\\\\n",
        "  U_1 &= U_0 + \\Delta t f(t_0,U_0) \\\\\n",
        "  U_{n+1} &= U_{n-1} + 2 \\Delta t f(t_n,U_n)\n",
        "\\end{aligned}\n",
        "$$\n"
      ]
    },
    {
      "cell_type": "markdown",
      "metadata": {
        "id": "hbfnthcMASBI",
        "colab_type": "text"
      },
      "source": [
        "#### Exercici\n",
        "\n",
        "Implementa el mètode 'leap-frog' per aproximar\n",
        "\n",
        "$$\n",
        "  f(t,u) = \\frac{du}{dt} = \\lambda u\n",
        "$$\n",
        "\n",
        "Utilitza $u(t=0) = 1$ com a valor inicial i $\\lambda = -\\ln(2)/1600$ com a constant de desintegració.\n",
        "\n",
        "Considera només 10 punts en l'interval [0,1600]. Compara amb la solució real $u(t)=c_0 e^{\\lambda t}$"
      ]
    },
    {
      "cell_type": "code",
      "metadata": {
        "id": "rSdzaZdPAjcO",
        "colab_type": "code",
        "colab": {}
      },
      "source": [
        "c_0 = 1.0\n",
        "decay_constant = -numpy.log(2.0) / 1600.0\n",
        "f = lambda t, u: decay_constant * u\n",
        "\n",
        "# Els nostres temps on avaluar la funció són\n",
        "t_exact = numpy.linspace(0.0, 1.6e3, 100)\n",
        "# u_exact = ...\n",
        "\n",
        "# Implementa el mètode leap-frog\n",
        "t_leapfrog = numpy.linspace(0.0, 1.6e3, 25)\n",
        "# u_leapfrog = ...\n",
        "#\n",
        "#\n",
        "\n",
        "\n",
        "# Fes un plot comparant u_exact amb u_leapfrog en funció del temps"
      ],
      "execution_count": 0,
      "outputs": []
    },
    {
      "cell_type": "code",
      "metadata": {
        "id": "KqkQDTzBsL1a",
        "colab_type": "code",
        "cellView": "form",
        "colab": {}
      },
      "source": [
        "#@title\n",
        "c_0 = 1.0\n",
        "N = 10\n",
        "\n",
        "# Stable example\n",
        "decay_constant = -numpy.log(2.0) / 1600.0\n",
        "t_exact = numpy.linspace(0.0, 1.6e3, 100)\n",
        "t_leapfrog = numpy.linspace(0.0, 1.6e3, N)\n",
        "\n",
        "# Unstable example\n",
        "# decay_constant = -1.0\n",
        "# t_exact = numpy.linspace(0.0, 5.0, 100)\n",
        "# t_leapfrog = numpy.linspace(0.0, 5.0, N)\n",
        "\n",
        "f = lambda t, u: decay_constant * u\n",
        "\n",
        "\n",
        "u_exact = c_0 * numpy.exp(decay_constant * t_exact)\n",
        "\n",
        "# Implement leap-frog\n",
        "delta_t = t_leapfrog[1] - t_leapfrog[0]\n",
        "u_leapfrog = numpy.empty(t_leapfrog.shape)\n",
        "u_leapfrog[0] = c_0\n",
        "u_leapfrog[1] = u_leapfrog[0] + delta_t * f(t_leapfrog[0], u_leapfrog[0])\n",
        "for n in range(1, t_leapfrog.shape[0] - 1):\n",
        "    u_leapfrog[n + 1] = u_leapfrog[n - 1] + 2.0 * delta_t * f(t_leapfrog[n], u_leapfrog[n])\n",
        "\n",
        "fig = plt.figure()\n",
        "axes = fig.add_subplot(1, 1, 1)\n",
        "axes.plot(t_leapfrog, u_leapfrog, 'or-', label=\"Leap-Frog\")\n",
        "axes.plot(t_exact, u_exact, 'k--', label=\"True Solution\")\n",
        "\n",
        "axes.set_title(\"Leap-Frog\")\n",
        "axes.set_xlabel(\"t (years)\")\n",
        "axes.set_xlabel(\"$c(t)$\")\n",
        "axes.legend()\n",
        "plt.show()"
      ],
      "execution_count": 0,
      "outputs": []
    },
    {
      "cell_type": "markdown",
      "metadata": {
        "id": "Km3_3bSssL1n",
        "colab_type": "text"
      },
      "source": [
        "Similarment al mètode forward d'Euler hi ha el mètode *backward d'Euler*. Com podeu imaginar, evalua la funció $f$ de la manera següent:\n",
        "\n",
        "$$\n",
        "    U_{n+1} = U_n + \\Delta t f(t_{n+1}, U_{n+1}).\n",
        "$$\n",
        "\n",
        "Els esquemes on la funció $f$ és avaluada al temps desconegut s'anomenen *mètodes implícits*."
      ]
    },
    {
      "cell_type": "markdown",
      "metadata": {
        "id": "0bGajcSRsL1s",
        "colab_type": "text"
      },
      "source": [
        "En alguns casos podem resoldre l'equació des del principi. Per exemple, en el nostre cas de desintegració tenim:\n",
        "\n",
        "$$\n",
        "    U_{n+1} = U_n + \\Delta t f(t_{n+1}, U_{n+1}) = U_n + \\Delta t (\\lambda U_{n+1})\n",
        "$$\n",
        "\n",
        "que podem resoldre per $U_{n+1}$ i trobem\n",
        "\n",
        "$$\\begin{aligned}\n",
        "    U_{n+1} &= U_n + \\Delta t (\\lambda U_{n+1}) \\\\\n",
        "    U_{n+1} \\left[ 1 - \\Delta t \\lambda \\right ] &= U_n \\\\\n",
        "    U_{n+1} &= \\frac{U_n}{1 - \\Delta t \\lambda}\n",
        "\\end{aligned}$$"
      ]
    },
    {
      "cell_type": "markdown",
      "metadata": {
        "id": "Fy63IozAsL1w",
        "colab_type": "text"
      },
      "source": [
        "També és útil poder fer això en casos de sistemes d'EDOs. Diguem $f(U) = A U$, llavors\n",
        "\n",
        "\n",
        "$$\\begin{aligned}\n",
        "    U_{n+1} &= U_n + \\Delta t (A U_{n+1}) \\\\\n",
        "    U_{n+1} \\left [ I - \\Delta t A \\right ] &= U_n \\\\\n",
        "    U_{n+1} &= \\left [ I - \\Delta t A \\right]^{-1} U_n\n",
        "\\end{aligned}$$\n",
        "\n",
        "En general, però, això no ho podrem fer per una $f$ arbitrària."
      ]
    },
    {
      "cell_type": "markdown",
      "metadata": {
        "id": "9SmBJKXnCekV",
        "colab_type": "text"
      },
      "source": [
        "#### Exercici\n",
        "\n",
        "Implementa el mètode barckward d'Euler per aproximar\n",
        "\n",
        "$$\n",
        "  f(t,u) = \\frac{du}{dt} = \\lambda u\n",
        "$$\n",
        "\n",
        "Compara el resultat amb la solució real $u(t) = c_0 e^{\\lambda t}$\n",
        "\n",
        "Utilitza $u(t=0) = 1$ com a valor inicial i $\\lambda = -\\ln(2)/1600$ com a constant de desintegració.\n"
      ]
    },
    {
      "cell_type": "code",
      "metadata": {
        "id": "nZdpdWxtClaN",
        "colab_type": "code",
        "colab": {}
      },
      "source": [
        "c_0 = 1.0\n",
        "decay_constant = -numpy.log(2.0) / 1600.0\n",
        "f = lambda t, u: decay_constant * u\n",
        "\n",
        "# Els nostres temps on avaluar la funció són\n",
        "t_exact = numpy.linspace(0.0, 1.6e3, 100)\n",
        "# u_exact = ...\n",
        "\n",
        "# Implementa el mètode backward d'Euler\n",
        "t_backwards = numpy.linspace(0.0, 1.6e3, 10)\n",
        "# u_backwards = ...\n",
        "#\n",
        "#\n",
        "\n",
        "\n",
        "# Fes un plot comparant u_exact amb u_backwards en funció del temps"
      ],
      "execution_count": 0,
      "outputs": []
    },
    {
      "cell_type": "code",
      "metadata": {
        "id": "rSCm8ioisL2O",
        "colab_type": "code",
        "cellView": "form",
        "colab": {}
      },
      "source": [
        "#@title\n",
        "c_0 = 1.0\n",
        "decay_constant = -numpy.log(2.0) / 1600.0\n",
        "f = lambda t, u: decay_constant * u\n",
        "\n",
        "t_exact = numpy.linspace(0.0, 1.6e3, 100)\n",
        "u_exact = c_0 * numpy.exp(decay_constant * t_exact)\n",
        "\n",
        "# Implement backwards Euler\n",
        "t_backwards = numpy.linspace(0.0, 1.6e3, 10)\n",
        "delta_t = t_backwards[1] - t_backwards[0]\n",
        "u_backwards = numpy.empty(t_backwards.shape)\n",
        "u_backwards[0] = c_0\n",
        "for n in range(0, t_backwards.shape[0] - 1):\n",
        "    u_backwards[n + 1] = u_backwards[n] / (1.0 - decay_constant * delta_t)\n",
        "\n",
        "fig = plt.figure()\n",
        "axes = fig.add_subplot(1, 1, 1)\n",
        "axes.plot(t_backwards, u_backwards, 'or', label=\"Backwards Euler\")\n",
        "axes.plot(t_exact, u_exact, 'k--', label=\"True Solution\")\n",
        "\n",
        "axes.set_title(\"Backwards Euler\")\n",
        "axes.set_xlabel(\"t (years)\")\n",
        "axes.set_xlabel(\"$c(t)$\")\n",
        "axes.set_ylim((0.4,1.1))\n",
        "axes.legend()\n",
        "plt.show()"
      ],
      "execution_count": 0,
      "outputs": []
    },
    {
      "cell_type": "markdown",
      "metadata": {
        "id": "5bipQw4jsL21",
        "colab_type": "text"
      },
      "source": [
        "Un altre mètode implícit està basat en l'integració a partir del mètode trapezial. L'esquema és\n",
        "\n",
        "$$\n",
        "    \\frac{U_{n+1} - U_{n}}{\\Delta t} = \\frac{1}{2} (f(U_n) + f(U_{n+1}))\n",
        "$$\n",
        "\n",
        "Quin és en aquest cas l'esquema d'actualització?"
      ]
    },
    {
      "cell_type": "markdown",
      "metadata": {
        "id": "aGKAiKa-sL26",
        "colab_type": "text"
      },
      "source": [
        "$$\\begin{aligned}\n",
        "    U_{n+1} &= U_{n} + \\frac{\\Delta t}{2} (f(U_n) + f(U_{n+1})) \\\\\n",
        "    U_{n+1} &= U_{n} + \\frac{\\Delta t}{2} (\\lambda U_n + \\lambda U_{n+1}) \\\\\n",
        "    U_{n+1} \\left[1 - \\frac{\\Delta t \\lambda}{2}  \\right] &= U_{n} \\left[1 + \\frac{\\Delta t \\lambda}{2} \\right] \\\\\n",
        "    U_{n+1} &= U_{n} \\frac{1 + \\frac{\\Delta t \\lambda}{2}}{1 - \\frac{\\Delta t \\lambda}{2}} \\\\\n",
        "\\end{aligned}$$"
      ]
    },
    {
      "cell_type": "markdown",
      "metadata": {
        "id": "Ua4xBkKeDHT4",
        "colab_type": "text"
      },
      "source": [
        "#### Exercici\n",
        "\n",
        "Implementa el mètode trapezial per aproximar\n",
        "\n",
        "$$\n",
        "  f(t,u) = \\frac{du}{dt} = \\lambda u\n",
        "$$\n",
        "\n",
        "Compara el resultat amb la solució real $u(t) = c_0 e^{\\lambda t}$\n",
        "\n",
        "Utilitza $u(t=0) = 1$ com a valor inicial i $\\lambda = -\\ln(2)/1600$ com a constant de desintegració.\n"
      ]
    },
    {
      "cell_type": "code",
      "metadata": {
        "id": "3KdqH9Q6DKTD",
        "colab_type": "code",
        "colab": {}
      },
      "source": [
        "c_0 = 1.0\n",
        "decay_constant = -numpy.log(2.0) / 1600.0\n",
        "t_exact = numpy.linspace(0.0, 1.6e3, 100)\n",
        "u_exact = c_0 * numpy.exp(decay_constant * t_exact)\n",
        "\n",
        "#Implementa el mètode trapezial\n",
        "t = numpy.linspace(0.0, 1.6e3, 10)\n",
        "delta_t = t[1] - t[0]\n",
        "u = numpy.empty(t.shape)\n",
        "u[0] = c_0\n",
        "#\n",
        "#\n",
        "#\n",
        "\n",
        "# Compara u_exact i u en funció del temps"
      ],
      "execution_count": 0,
      "outputs": []
    },
    {
      "cell_type": "code",
      "metadata": {
        "id": "cz9hPkHhsL2-",
        "colab_type": "code",
        "cellView": "form",
        "colab": {}
      },
      "source": [
        "#@title\n",
        "c_0 = 1.0\n",
        "decay_constant = -numpy.log(2.0) / 1600.0\n",
        "t_exact = numpy.linspace(0.0, 1.6e3, 100)\n",
        "u_exact = c_0 * numpy.exp(decay_constant * t_exact)\n",
        "\n",
        "# Implement trapezoidal method\n",
        "t = numpy.linspace(0.0, 1.6e3, 10)\n",
        "delta_t = t[1] - t[0]\n",
        "u = numpy.empty(t.shape)\n",
        "u[0] = c_0\n",
        "integration_constant = (1.0 + decay_constant * delta_t / 2.0) / (1.0 - decay_constant * delta_t / 2.0)\n",
        "for n in range(t.shape[0] - 1):\n",
        "    u[n + 1] = u[n] * integration_constant\n",
        "\n",
        "fig = plt.figure()\n",
        "axes = fig.add_subplot(1, 1, 1)\n",
        "axes.plot(t, u, 'or', label=\"Trapezoidal\")\n",
        "axes.plot(t_exact, u_exact, 'k--', label=\"True Solution\")\n",
        "\n",
        "axes.set_title(\"Trapezoidal\")\n",
        "axes.set_xlabel(\"t (years)\")\n",
        "axes.set_xlabel(\"$c(t)$\")\n",
        "axes.set_ylim((0.4,1.1))\n",
        "axes.legend()\n",
        "plt.show()"
      ],
      "execution_count": 0,
      "outputs": []
    },
    {
      "cell_type": "markdown",
      "metadata": {
        "id": "RMWU47LAsL3F",
        "colab_type": "text"
      },
      "source": [
        "## Anàlisi d'errors per mètodes d'EDO\n",
        "\n",
        "Primer introduim més notació per poder distingir entre la solució de l'EDO $u(t_n)$ i el valor aproximat que denotarem $U_n$."
      ]
    },
    {
      "cell_type": "markdown",
      "metadata": {
        "id": "Uw0J8Jt0sL3H",
        "colab_type": "text"
      },
      "source": [
        "**Definició:** Definim *l'error de truncament* d'un esquema canviant $U_n$ amb la solució real $u(t_n)$ a la fórmula de les diferències finites i considerant la diferència amb la solució exacte.\n",
        "\n",
        "Per exemple, pel mètode forward d'Euler\n",
        "$$\n",
        "    \\frac{U_{n+1} - U_n}{\\Delta t} = f(t_n,u_n)\n",
        "$$\n",
        "i definim l'error de truncament com\n",
        "$$\n",
        "    T(t, u; \\Delta t) = \\frac{u(t_{n+1}) - u(t_n)}{\\Delta t} - f(t_n, u(t_n)).\n",
        "$$"
      ]
    },
    {
      "cell_type": "markdown",
      "metadata": {
        "id": "noYAJcwesL3L",
        "colab_type": "text"
      },
      "source": [
        "**Definició:** Un mètode és *consistent* si \n",
        "$$\n",
        "    \\lim_{\\Delta t \\rightarrow 0} T(t, u; \\Delta t) = 0.\n",
        "$$"
      ]
    },
    {
      "cell_type": "markdown",
      "metadata": {
        "id": "9ftmZAmisL3O",
        "colab_type": "text"
      },
      "source": [
        "**Definició:** Diem que un mètode té *ordre* $p$ en precisió si\n",
        "\n",
        "$$\n",
        "    \\lVert T(t, u; \\Delta t) \\rVert \\leq C \\Delta t^p\n",
        "$$\n",
        "\n",
        "uniformement per $t \\in [0, T]$. Ho podem escriure com $T(t, u; \\Delta t) = \\mathcal{O}(\\Delta t^p)$. Noteu que un mètode és consistent si $p > 0$."
      ]
    },
    {
      "cell_type": "markdown",
      "metadata": {
        "id": "pCD7lFWisL3Q",
        "colab_type": "text"
      },
      "source": [
        "### Anàlisi d'error per Forward Euler\n",
        "\n",
        "Podem analitzar l'error i l'ordre de convergència de forward Euler si considerem la sèrie de Taylor centrada a $t_n$:\n",
        "$$\n",
        "    u(t) = u(t_n) + (t - t_n) u'(t_n) + \\frac{u''(t_n)}{2} (t - t_n)^2 + \\mathcal{O}((t-t_n)^3)\n",
        "$$"
      ]
    },
    {
      "cell_type": "markdown",
      "metadata": {
        "id": "9gedx9XGsL3S",
        "colab_type": "text"
      },
      "source": [
        "Avaluant la sèrie a $t_{n+1}$ dóna\n",
        "$$\\begin{aligned}\n",
        "    u(t_{n+1}) &= u(t_n) + (t_{n+1} - t_n) u'(t_n) + \\frac{u''(t_n)}{2} (t_{n+1} - t_n)^2 + \\mathcal{O}((t_{n+1}-t_n)^3)\\\\\n",
        "    &=u_n + \\Delta t f(t_n, u_n) + \\frac{u''(t_n)}{2} \\Delta t^2 + \\mathcal{O}(\\Delta t^3)\n",
        "\\end{aligned}$$"
      ]
    },
    {
      "cell_type": "markdown",
      "metadata": {
        "id": "HFr2Jnu3sL3U",
        "colab_type": "text"
      },
      "source": [
        "Si prenem la diferència finita del mètode forward d'Euler\n",
        "$$\n",
        "    \\frac{U_{n+1} - U_n}{\\Delta t} = f(t_n)\n",
        "$$\n",
        "i substituim la formulació derivativa amb $u(t_n)$ trobem\n",
        "$$\\begin{aligned}\n",
        "    T(t, u; \\Delta t) &= \\frac{u(t_{n+1}) - u(t_n)}{\\Delta t} - f(t_n) \\\\\n",
        "    &= \\frac{u(t_{n+1}) - u(t_n)}{\\Delta t} - u'(t_n).\n",
        "\\end{aligned}$$"
      ]
    },
    {
      "cell_type": "markdown",
      "metadata": {
        "id": "WkOzpbsHsL3V",
        "colab_type": "text"
      },
      "source": [
        "Ara utilitzem la sèrie de Taylor centrada a $t_n$ i avaluada a $t_{n+1}$ per trobar\n",
        "\n",
        "$$\\begin{aligned}\n",
        "    T(t, u; \\Delta t) &= \\frac{u(t_{n+1}) - u(t_n)}{\\Delta t} - u'(t_n) \\\\\n",
        "    &= \\frac{1}{\\Delta t} \\left[ u(t_n) + u'(t_n) (t - t_n) + \\frac{u''(t_n)}{2} (t - t_n)^2 + \\mathcal{O}((t-t_n)^3) - u(t_n) \\right] - u'(t_n) \\\\\n",
        "    &=  u'(t_n) + \\frac{u''(t_n)}{2} \\Delta t + \\mathcal{O}(\\Delta t^2) - u'(t_n) \\\\\n",
        "    &= \\frac{u''(t_n)}{2} \\Delta t + \\mathcal{O}(\\Delta t^2).\n",
        "\\end{aligned}$$\n",
        "\n",
        "Que implica que el mètode forward d'Euler és de primer ordre de precisió i per tant és consistent."
      ]
    },
    {
      "cell_type": "markdown",
      "metadata": {
        "id": "pEmiVj9usL3W",
        "colab_type": "text"
      },
      "source": [
        "Una altra definició equivalent de l'error de truncament fa servir la forma\n",
        "$$\n",
        "    U_{n+1} = u(t_n) + \\Delta t f(t_n)\n",
        "$$\n",
        "i la definició\n",
        "$$\n",
        "    T(t, u; \\Delta t) = \\frac{1}{\\Delta t} \\left [ U_{n+1} - u(t_{n+1}) \\right]\n",
        "$$\n",
        "per trobar\n",
        "$$\\begin{aligned}\n",
        "    T(t, u; \\Delta t) &= \\frac{1}{\\Delta t} [U_{n+1} - u(t + \\Delta t)] \\\\\n",
        "    &= \\frac{1}{\\Delta t} \\left[ \\underbrace{u_n + \\Delta t f(t_n, u_n)}_{U_{n+1}} - \\underbrace{\\left( u_n + \\Delta t f(t_n, u_n) + \\frac{u''(t_n)}{2} \\Delta t^2 + \\mathcal{O}(\\Delta t^3) \\right )}_{u(t_{n+1})}\\right ] \\\\\n",
        "    &= \\frac{1}{\\Delta t} \\left[ - \\frac{u''(t_n)}{2} \\Delta t^2 - \\mathcal{O}(\\Delta t^3) \\right ] \\\\\n",
        "    &= - \\frac{u''(t_n)}{2} \\Delta t - \\mathcal{O}(\\Delta t^2)\n",
        "\\end{aligned}$$"
      ]
    },
    {
      "cell_type": "markdown",
      "metadata": {
        "id": "pQFOE5wUsL3Y",
        "colab_type": "text"
      },
      "source": [
        "### Anàlisi d'error del mètode Leap-Frog \n",
        "\n",
        "Per analitzar aquest mètode expandim el Taylor d'abans a un altre ordre:\n",
        "$$\n",
        "    u(t) = u(t_n) + (t - t_n) u'(t_n) + (t - t_n)^2 \\frac{u''(t_n)}{2}  + (t - t_n)^3 \\frac{u'''(t_n)}{6} + \\mathcal{O}((t-t_n)^4)\n",
        "$$\n",
        "obtenint\n",
        "$$\\begin{aligned}\n",
        "    u(t_{n+1}) &= u_n + \\Delta t f_n + \\Delta t^2 \\frac{u''(t_n)}{2}  + \\Delta t^3 \\frac{u'''(t_n)}{6} + \\mathcal{O}(\\Delta t^4)\n",
        "\\end{aligned}$$"
      ]
    },
    {
      "cell_type": "markdown",
      "metadata": {
        "id": "7rcB6y2ssL3Z",
        "colab_type": "text"
      },
      "source": [
        "Necessitem una expansió més. Recorda que leap-frog té la forma\n",
        "\n",
        "$$\n",
        "    \\frac{U_{n+1} - U_{n-1}}{2 \\Delta t} = f(t_n, U_n)\n",
        "$$\n",
        "o\n",
        "$$\n",
        "    U_{n+1} = U_{n-1} + 2 \\Delta t f(t_n, U_n).\n",
        "$$\n",
        "\n",
        "Per gestionar el terme $U_{n-1}$ necessitem escriure això en relació amb $u(t_n)$. Fent Taylor:\n",
        "\n",
        "$$\n",
        "    u(t_{n-1}) = u_n - \\Delta t f_n + \\Delta t^2 \\frac{u''(t_n)}{2}  - \\Delta t^3 \\frac{u'''(t_n)}{6} + \\mathcal{O}(\\Delta t^4)\n",
        "$$"
      ]
    },
    {
      "cell_type": "markdown",
      "metadata": {
        "id": "pb-lkCzisL3d",
        "colab_type": "text"
      },
      "source": [
        "$$\\begin{aligned}\n",
        "    u(t_{n+1}) &= u_n + \\Delta t f_n + \\Delta t^2 \\frac{u''(t_n)}{2}  + \\Delta t^3 \\frac{u'''(t_n)}{6} + \\mathcal{O}(\\Delta t^4)\n",
        "    u(t_{n-1}) &= u_n - \\Delta t f_n + \\Delta t^2 \\frac{u''(t_n)}{2}  - \\Delta t^3 \\frac{u'''(t_n)}{6} + \\mathcal{O}(\\Delta t^4)\n",
        "\\end{aligned}$$\n",
        "\n",
        "Juntant tot en la nostra definició de l'error de truncament juntament amb la definició del mètode leap-frog obtenim\n",
        "\n",
        "$$\\begin{aligned}\n",
        "    T(t, u; \\Delta t) &= \\frac{1}{\\Delta t} \\left [\\underbrace{U_{n-1} + 2 \\Delta t f_n}_{U_{n+1}} - \\underbrace{\\left(u_n + \\Delta t f_n + \\Delta t^2 \\frac{u''(t_n)}{2}  + \\Delta t^3 \\frac{u'''(t_n)}{6} + \\mathcal{O}(\\Delta t^4) \\right )}_{u(t + \\Delta t)} \\right ] \\\\\n",
        "    &=\\frac{1}{\\Delta t} \\left [\\underbrace{\\left(u_n - \\Delta t f_n + \\Delta t^2 \\frac{u''(t_n)}{2}  - \\Delta t^3 \\frac{u'''(t_n)}{6} + \\mathcal{O}(\\Delta t^4)\\right)}_{U_{n-1}} + 2\\Delta t f_n - \\left(u_n + \\Delta t f_n + \\Delta t^2 \\frac{u''(t_n)}{2}  + \\Delta t^3 \\frac{u'''(t_n)}{6} + \\mathcal{O}(\\Delta t^4) \\right )\\right ] \\\\\n",
        "    &=\\frac{1}{\\Delta t} \\left [- \\Delta t^3 \\frac{u'''(t_n)}{3} + \\mathcal{O}(\\Delta t^4) \\right ] \\\\\n",
        "    &=- \\Delta t^2 \\frac{u'''(t_n)}{3} + \\mathcal{O}(\\Delta t^3)\n",
        "\\end{aligned}$$\n",
        "\n",
        "En conclusió el mètode té ordre de precisió 2 i és consistent en teoria."
      ]
    },
    {
      "cell_type": "code",
      "metadata": {
        "id": "d0zIbaFtsL3e",
        "colab_type": "code",
        "colab": {
          "base_uri": "https://localhost:8080/",
          "height": 301
        },
        "outputId": "1afa42f0-4567-4912-b094-efb2ce40bab2"
      },
      "source": [
        "# Compare accuracy between Euler and Leap-Frog\n",
        "f = lambda t, u: -u\n",
        "u_exact = lambda t: numpy.exp(-t)\n",
        "u_0 = 1.0\n",
        "\n",
        "t_f = 10.0\n",
        "num_steps = [2**n for n in range(4,10)]\n",
        "delta_t = numpy.empty(len(num_steps))\n",
        "error_euler = numpy.empty(len(num_steps))\n",
        "error_trap = numpy.empty(len(num_steps))\n",
        "error_leapfrog = numpy.empty(len(num_steps))\n",
        "\n",
        "for (i, N) in enumerate(num_steps):\n",
        "    t = numpy.linspace(0, t_f, N)\n",
        "    delta_t[i] = t[1] - t[0]\n",
        "    \n",
        "    # Compute Euler solution\n",
        "    u_euler = numpy.empty(t.shape)\n",
        "    u_euler[0] = u_0\n",
        "    for n in range(t.shape[0] - 1):\n",
        "        u_euler[n+1] = u_euler[n] + delta_t[i] * f(t[n], u_euler[n])\n",
        "        \n",
        "    # Compute trapezoidal\n",
        "    u_trap = numpy.empty(t.shape)\n",
        "    u_trap[0] = u_0\n",
        "    integration_constant = (1.0 - delta_t[i] / 2.0) / (1.0 + delta_t[i] / 2.0)\n",
        "    for n in range(t.shape[0] - 1):\n",
        "        u_trap[n + 1] = u_trap[n] * integration_constant\n",
        "        \n",
        "    # Compute Leap-Frog\n",
        "    u_leapfrog = numpy.empty(t.shape)\n",
        "    u_leapfrog[0] = 1.0\n",
        "    u_leapfrog[1] = u_euler[1]\n",
        "    for n in range(1, t.shape[0] - 1):\n",
        "        u_leapfrog[n+1] = u_leapfrog[n-1] + 2.0 * delta_t[i] * f(t[n], u_leapfrog[n])\n",
        "        \n",
        "    # Compute error for each\n",
        "    error_euler[i] = numpy.linalg.norm(delta_t[i] * (u_euler - u_exact(t)), ord=1)\n",
        "    error_trap[i] = numpy.linalg.norm(delta_t[i] * (u_trap - u_exact(t)), ord=1)\n",
        "    error_leapfrog[i] = numpy.linalg.norm(delta_t[i] * (u_leapfrog - u_exact(t)), ord=1)\n",
        "    \n",
        "# Plot error vs. delta_t\n",
        "fig = plt.figure()\n",
        "axes = fig.add_subplot(1, 1, 1)\n",
        "\n",
        "order_C = lambda delta_x, error, order: numpy.exp(numpy.log(error) - order * numpy.log(delta_x))\n",
        "axes.loglog(delta_t, error_euler, 'bo', label='Forward Euler')\n",
        "axes.loglog(delta_t, error_trap, 'ro', label='Trapezoidal')\n",
        "axes.loglog(delta_t, error_leapfrog, 'go', label=\"Leap-Frog\")\n",
        "\n",
        "axes.loglog(delta_t, order_C(delta_t[2], error_euler[2], 1.0) * delta_t**1.0, '--b')\n",
        "axes.loglog(delta_t, order_C(delta_t[2], error_trap[2], 2.0) * delta_t**2.0, '--r')\n",
        "axes.loglog(delta_t, order_C(delta_t[2], error_leapfrog[2], 2.0) * delta_t**2.0, '--r')\n",
        "\n",
        "axes.legend(loc=2)\n",
        "axes.set_title(\"Comparison of Errors\")\n",
        "axes.set_xlabel(\"$\\Delta t$\")\n",
        "axes.set_ylabel(\"$|U(t_f) - u(t_f)|$\")\n",
        "\n",
        "plt.show()"
      ],
      "execution_count": 14,
      "outputs": [
        {
          "output_type": "display_data",
          "data": {
            "image/png": "[encoded data removed]",
            "text/plain": [
              "<Figure size 432x288 with 1 Axes>"
            ]
          },
          "metadata": {
            "tags": []
          }
        }
      ]
    }
  ]
}