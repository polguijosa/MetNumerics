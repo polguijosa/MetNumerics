{
  "nbformat": 4,
  "nbformat_minor": 0,
  "metadata": {
    "colab": {
      "name": "06_interpolation.ipynb",
      "version": "0.3.2",
      "provenance": [],
      "collapsed_sections": [
        "a2qC4boz-OrS",
        "XRKSo7Y2-OsN",
        "pOmDtRGY-Osb",
        "0_cGTVcf-Osc",
        "FsyiimL2-Osd",
        "KU4RUMU--Osp",
        "T9T02Vv7-OtJ"
      ],
      "include_colab_link": true
    },
    "kernelspec": {
      "display_name": "Python 3",
      "language": "python",
      "name": "python3"
    }
  },
  "cells": [
    {
      "cell_type": "markdown",
      "metadata": {
        "id": "view-in-github",
        "colab_type": "text"
      },
      "source": [
        "<a href=\"https://colab.research.google.com/github/sergiogf93/MetNumerics/blob/master/notebooks/04_Interpolation.ipynb\" target=\"_parent\"><img src=\"https://colab.research.google.com/assets/colab-badge.svg\" alt=\"Open In Colab\"/></a>"
      ]
    },
    {
      "cell_type": "code",
      "metadata": {
        "id": "aJ33ThPv-OrG",
        "colab_type": "code",
        "colab": {}
      },
      "source": [
        "%matplotlib inline\n",
        "import numpy\n",
        "import matplotlib.pyplot as plt"
      ],
      "execution_count": 0,
      "outputs": []
    },
    {
      "cell_type": "markdown",
      "metadata": {
        "id": "PP8PsOEc-OrK",
        "colab_type": "text"
      },
      "source": [
        "# Interpolació\n",
        "\n",
        "Donat un conjunt discret de valors $(x_i,y_i)$,  \n",
        "\n",
        "**Definition:**  Given a discrete set of values $y_i$ at locations $x_i$,  un *interpolador* és una funció per parts $f(x)$ que passa exactament per les dades (*i.e.* $f(x_i) = y_i$)."
      ]
    },
    {
      "cell_type": "markdown",
      "metadata": {
        "id": "AAskZFcp-OrM",
        "colab_type": "text"
      },
      "source": [
        "## Aplicacions\n",
        "\n",
        "- Emplenament de dades\n",
        "- Aproximació de funcions\n",
        "- Part fonamental en altres algoritmes:\n",
        "  - Trobar arrels de funcions (mètode de les secants)\n",
        "  - Optimització, trobar extrems (interpolació successiva de paràboles)\n",
        "  - Integració i diferenciació numèrica"
      ]
    },
    {
      "cell_type": "markdown",
      "metadata": {
        "id": "7q8A7O_t-OrO",
        "colab_type": "text"
      },
      "source": [
        "## Interpolació polinòmica\n",
        "\n",
        "**Teorema** Existeix una *única* funció polinòmica de grau $N$,  $\\mathcal{P}_N(x)$, que passa exactament pels $N+1$ valors $y_1, y_2, \\ldots, y_N, y_{N+1}$ pels *distints* punts $x_1, x_2, \\ldots, x_N, x_{N+1}$.\n",
        "\n",
        "Conseqüència del nombre de paràmetres desconeguts a $\\mathcal{P}_N(x)$."
      ]
    },
    {
      "cell_type": "markdown",
      "metadata": {
        "id": "XUs_F6H--OrQ",
        "colab_type": "text"
      },
      "source": [
        "#### Exercici 1: 2 punts\n",
        "\n",
        "Donats els punts $(x_0, y_0)$ i $(x_1, y_1)$ que defineixen una recta $P_1(x) = p_1 x + p_0$\n",
        "\n",
        "Fes servir els punts per trobar $p_0$ i $p_1$:"
      ]
    },
    {
      "cell_type": "markdown",
      "metadata": {
        "id": "a2qC4boz-OrS",
        "colab_type": "text"
      },
      "source": [
        " ##### Resposta\n"
      ]
    },
    {
      "cell_type": "markdown",
      "metadata": {
        "id": "NqXnk6Mb-OrU",
        "colab_type": "text"
      },
      "source": [
        "$$y_0 = p_1 x_0 + p_0 \\quad \\Rightarrow \\quad p_0 = y_0 - p_1 x_0$$\n",
        "$$\\begin{aligned}\n",
        "    y_1 &= p_1 x_1 + p_0 & \\Rightarrow \\\\\n",
        "    y_1 &= p_1 x_1 + y_0 - p_1 x_0 & \\Rightarrow \\\\\n",
        "    p_1 &= \\frac{y_1 - y_0}{x_1 - x_0} & \\Rightarrow \\\\\n",
        "    p_0 &= y_0 - \\frac{y_1 - y_0}{x_1 - x_0} x_0 &\n",
        "\\end{aligned}$$"
      ]
    },
    {
      "cell_type": "markdown",
      "metadata": {
        "id": "QTVRMO8C-OrW",
        "colab_type": "text"
      },
      "source": [
        "$$\\mathcal{P}_1(x) = \\frac{y_1 - y_0}{x_1 - x_0} x + y_0 - \\frac{y_1 - y_0}{x_1 - x_0} x_0 = \\frac{y_1 - y_0}{x_1 - x_0} (x - x_0) + y_0$$"
      ]
    },
    {
      "cell_type": "markdown",
      "metadata": {
        "id": "_q72DUtq-OrY",
        "colab_type": "text"
      },
      "source": [
        "#### Exercici 2:  3 punts\n",
        "\n",
        "Donat que els punts són $(x_0, y_0)$, $(x_1, y_1)$, i $(x_2, y_2)$. Podem obtenir un polinomi quadràtic.\n",
        "\n",
        "Sigui $\\mathcal{P}_2(x) = p_0 x^2 + p_1 x + p_2$, obtenim les següents equacions:"
      ]
    },
    {
      "cell_type": "markdown",
      "metadata": {
        "id": "O1jJyugs-Orb",
        "colab_type": "text"
      },
      "source": [
        "$$y_0 = p_2 x_0^2 + p_1 x_0 + p_0$$\n",
        "\n",
        "$$y_1 = p_2 x_1^2 + p_1 x_1 + p_0$$\n",
        "\n",
        "$$y_2 = p_2 x_2^2 + p_1 x_2 + p_0$$\n",
        "\n",
        "Això s'està complicant molt ràpidament!"
      ]
    },
    {
      "cell_type": "markdown",
      "metadata": {
        "id": "tvvIB-KD-Ord",
        "colab_type": "text"
      },
      "source": [
        "### Demostració - Unicitat de polinomis interpoladors\n",
        "\n",
        "Sigui \n",
        "\n",
        "$$\\mathcal{P}_N(x) = \\sum^N_{n=0} p_n x^n $$\n",
        "o\n",
        "$$\\mathcal{P}_N(x) = p_0 + p_1 x + \\cdots + p_{N - 1} x^{N - 1} + p_{N} x^N$$\n",
        "\n",
        "i requerim que $\\mathcal{P}_N(x_i) = y_i$ for $i=0,1,\\ldots,N$ and $x_i \\neq x_j ~~~ \\forall i,j$."
      ]
    },
    {
      "cell_type": "markdown",
      "metadata": {
        "id": "lwbXAQWX-Org",
        "colab_type": "text"
      },
      "source": [
        "Considerem l'existència d'un altre polinomi\n",
        "\n",
        "$$Q_N(x) = \\sum^N_{n=0} q_n x^n$$\n",
        "\n",
        "que també compleix la condició $Q_N(x_i) = y_i$.  \n",
        "\n",
        "Calcula $T_N(x) = \\mathcal{P}_N(x) - Q_N(x)$:"
      ]
    },
    {
      "cell_type": "markdown",
      "metadata": {
        "id": "2XQTo199-Ori",
        "colab_type": "text"
      },
      "source": [
        "Sabem que $T_N(x_i) = 0$ però i per la resta de les $x$?\n",
        "\n",
        "$$T_N(x) = \\mathcal{P}_N(x) - Q_N(x) = \\sum^N_{n=0} p_n x^n - q_n x^n = \\sum^N_{n=0} (p_n - q_n) x^n$$\n",
        "\n",
        "Però $T_N(x_i) = 0$implica que $p_n - q_n = 0$ individualment i per tant $\\mathcal{P}_N(x) = Q_N(x)$."
      ]
    },
    {
      "cell_type": "markdown",
      "metadata": {
        "id": "MJWkD0YP-Orl",
        "colab_type": "text"
      },
      "source": [
        "### Base monomial\n",
        "\n",
        "Sigui $\\mathcal{P}_N(x) = \\sum^N_{n=0} p_n x^n$, $\\mathcal{P}_N(x)$ pot ser representat com a *combinació lineal* dels monomis\n",
        "\n",
        "$$1, x, x^2, x^3, \\ldots, x^{N-1}, x^N$$ \n",
        "\n",
        "amb pesos\n",
        "\n",
        "$$p_0, p_1, p_2, p_3, \\ldots, p_{N-1}, \\text{i } p_N$$\n",
        "\n",
        "respectivament."
      ]
    },
    {
      "cell_type": "markdown",
      "metadata": {
        "id": "vT51SYh4-Orn",
        "colab_type": "text"
      },
      "source": [
        "#### Exercici 3:  Base monomial\n",
        "\n",
        "Considera $\\mathcal{P}_3(x) = p_0 + p_1 x + p_2 x^2 + p_3 x^3$ amb quatre punts with $(x_i, y_i), ~~ i = 0,1,2,3$. Tenim quatre equacions i quatre paràmetres desconeguts com és d'esperar:\n",
        "\n",
        "$$\\mathcal{P}_3(x_0) = p_0 + p_1 x_0 + p_2 x_0^2 + p_3 x_0^3 = y_0$$\n",
        "\n",
        "$$\\mathcal{P}_3(x_1) = p_0 + p_1 x_1 + p_2 x_1^2 + p_3 x_1^3 = y_1$$\n",
        "\n",
        "$$\\mathcal{P}_3(x_2) = p_0 + p_1 x_2 + p_2 x_2^2 + p_3 x_2^3 = y_2$$\n",
        "\n",
        "$$\\mathcal{P}_3(x_3) = p_0 + p_1 x_3 + p_2 x_3^2 + p_3 x_3^3 = y_3$$"
      ]
    },
    {
      "cell_type": "markdown",
      "metadata": {
        "id": "J1KA0Cux-Oro",
        "colab_type": "text"
      },
      "source": [
        "Si considerem la forma matricial:\n",
        "\n",
        "$$\\vec{x} = \\begin{bmatrix} x_0 \\\\ x_1 \\\\ x_2 \\\\ x_3 \\end{bmatrix} \\quad \\vec{y} = \\begin{bmatrix} y_0 \\\\ y_1 \\\\ y_2 \\\\ y_3 \\end{bmatrix} \\quad \\vec{p} = \\begin{bmatrix} p_0 \\\\ p_1 \\\\ p_2 \\\\ p_3 \\end{bmatrix}$$\n",
        "\n",
        "Definim la matriu de *Vandermonde* com\n",
        "\n",
        "$$\n",
        "V = \\begin{bmatrix} \n",
        "     1 & x_0 & x_0^2 & x_0^3 \\\\\n",
        "     1 & x_1 & x_1^2 & x_1^3 \\\\\n",
        "     1 & x_2 & x_2^2 & x_2^3 \\\\\n",
        "     1 & x_3 & x_3^2 & x_3^3\n",
        "\\end{bmatrix}\n",
        "$$\n",
        "\n",
        "la qual ens permet escriure el sistema lineal d'equacions com $V \\vec{p} = \\vec{y}$:\n",
        "\n",
        "$$\\begin{bmatrix} \n",
        "     1 & x_0 & x_0^2 & x_0^3 \\\\\n",
        "     1 & x_1 & x_1^2 & x_1^3 \\\\\n",
        "     1 & x_2 & x_2^2 & x_2^3 \\\\\n",
        "     1 & x_3 & x_3^2 & x_3^3\n",
        "\\end{bmatrix} \\begin{bmatrix} p_0 \\\\ p_1 \\\\ p_2 \\\\ p_3 \\end{bmatrix} = \\begin{bmatrix} y_0 \\\\ y_1 \\\\ y_2 \\\\ y_3 \\end{bmatrix}$$"
      ]
    },
    {
      "cell_type": "markdown",
      "metadata": {
        "id": "InPuv2ZT-Orr",
        "colab_type": "text"
      },
      "source": [
        "Les matrius de Vandermonde es defineixen en general com\n",
        "\n",
        "$$V = \\begin{bmatrix} \n",
        "    1      & x_0    & x_0^2  & \\cdots & x_0^N  \\\\\n",
        "    1      & x_1    & x_1^2  & \\cdots & x_1^N  \\\\\n",
        "    \\vdots & \\vdots & \\vdots & \\ddots & \\vdots \\\\\n",
        "    1      & x_m    & x_m^2  & \\cdots & x_m^N  \\\\\n",
        "\\end{bmatrix}\n",
        "$$\n",
        "\n",
        "on $V$ és una matriu $m \\times N$ amb els punts $(x_i, y_i)$ per $i = 0, 1, 2, 3, \\ldots m$ i per un ordre $N$ polinomial $\\mathcal{P}_N(x)$."
      ]
    },
    {
      "cell_type": "markdown",
      "metadata": {
        "id": "taxS-mAL-Ort",
        "colab_type": "text"
      },
      "source": [
        "### Trobar els $p_i$\n",
        "\n",
        "Els coeficients de $\\mathcal{P}_N(x)$ es poden obtenir solucionant el sistema d'equacions d'abans. Hi ha funcions a `numpy`que ho fan, com ara:\n",
        " - `numpy.polyfit(x, y, x.shape[0] - 1)`\n",
        " - `numpy.vander(x, N=None)` per construir la matriu i utilitzar una rutina de solucions lineal\n",
        "\n",
        "També podem considerar una base que sigui més fàcil d'utilitzar."
      ]
    },
    {
      "cell_type": "markdown",
      "metadata": {
        "id": "oCMxd6h8-Oru",
        "colab_type": "text"
      },
      "source": [
        "### Base Lagrangiana\n",
        "\n",
        "Donats $N+1$ punts $(x_0,y_0), (x_1,y_1), \\ldots, (x_{N},y_{N})$ on assumim altra vegade que els $x_i$ són tots diferents, el polinomi interpolador $\\mathcal{P}_N(x)$ es pot escriure com\n",
        "\n",
        "$$\\mathcal{P}_N(x) = \\sum^{N}_{i=0} y_i \\ell_i(x)$$\n",
        "\n",
        "on \n",
        "\n",
        "$$\\ell_i(x) = \\prod^{N}_{j=0, j \\neq i} \\frac{x - x_j}{x_i - x_j} = \\frac{x - x_0}{x_i - x_0} \\frac{x - x_1}{x_i - x_1} \\cdots \\frac{x - x_{i-1}}{x_i - x_{i-1}}\\frac{x - x_{i+1}}{x_i - x_{i+1}} \\cdots \\frac{x - x_{N}}{x_i - x_{N}}$$\n",
        "\n",
        "Noteu que $\\ell_i(x_i) = 1$ i $\\forall j\\neq i, ~~ \\ell_i(x_j) = 0$."
      ]
    },
    {
      "cell_type": "markdown",
      "metadata": {
        "id": "GLUdCP9E-Orw",
        "colab_type": "text"
      },
      "source": [
        "#### Exercici 4:  $N = 1$ Polinomi de Lagrange\n",
        "\n",
        "Donats dos punts $(x_0, y_0)$ i $(x_1, y_1)$ els termes de Lagrange de $\\mathcal{P}_N(x)$ són\n",
        "\n",
        "$$\\ell_0(x) = \\frac{x - x_1}{x_0 - x_1}$$\n",
        "\n",
        "i\n",
        "\n",
        "$$\\ell_1(x) = \\frac{x - x_0}{x_1 - x_0}$$\n",
        "\n",
        "de manera que\n",
        "\n",
        "$$\\mathcal{P}_1(x) = \\ell_0(x) \\cdot y_0 + \\ell_1(x) \\cdot y_1 = \\frac{x - x_1}{x_0 - x_1} \\cdot y_0 + \\frac{x - x_0}{x_1 - x_0} \\cdot y_1$$"
      ]
    },
    {
      "cell_type": "code",
      "metadata": {
        "id": "67NQrc0V-Ory",
        "colab_type": "code",
        "colab": {}
      },
      "source": [
        "data = numpy.array([[-1.5, -0.5], [0.0, 0.5]])\n",
        "# data = numpy.array([[-1.5, -0.5], [0.0, 0.5], [-0.5, 1.0]])\n",
        "N = data.shape[0] - 1\n",
        "M = data.shape[0]\n",
        "x = numpy.linspace(-2.0, 2.0, 100)\n",
        "\n",
        "# ====================================================\n",
        "# Compute the Lagrange basis (\\ell_i(x))\n",
        "def lagrange_basis(x, data):\n",
        "    \"\"\"Compute Lagrange basis at x given data\"\"\"\n",
        "    basis = numpy.ones((data.shape[0], x.shape[0]))\n",
        "    for i in range(data.shape[0]):\n",
        "        for j in range(data.shape[0]):\n",
        "            if i != j:\n",
        "                basis[i, :] *= (x - data[j, 0]) / (data[i, 0] - data[j, 0])\n",
        "    return basis\n",
        "\n",
        "# ====================================================\n",
        "# Calculate full polynomial\n",
        "def poly_interpolant(x, data):\n",
        "    \"\"\"Compute polynomial interpolant of (x,y) using Lagrange basis\"\"\"\n",
        "    P = numpy.zeros(x.shape[0])\n",
        "    basis = lagrange_basis(x, data)\n",
        "    for n in range(data.shape[0]):\n",
        "        P += basis[n, :] * data[n, 1]\n",
        "    return P\n",
        "\n",
        "# ====================================================\n",
        "# Plot individual basis functions\n",
        "fig = plt.figure()\n",
        "axes = fig.add_subplot(1, 1, 1)\n",
        "basis = lagrange_basis(x, data)\n",
        "for i in range(N + 1):\n",
        "    axes.plot(x, basis[i, :], label=\"$\\ell_{%s}(x)$\" % i)\n",
        "\n",
        "axes.set_title(\"Lagrange Basis $\\ell_i(x)$\")\n",
        "axes.set_xlabel(\"x\")\n",
        "axes.set_ylabel(\"$\\ell_i(x)$\")\n",
        "axes.legend(loc=8)\n",
        "\n",
        "# Plot full polynomial P_N(x)\n",
        "fig = plt.figure()\n",
        "axes = fig.add_subplot(1, 1, 1)\n",
        "axes.plot(x, poly_interpolant(x, data), label=\"$P_{%s}(x)$\" % N)\n",
        "for point in data:\n",
        "    axes.plot(point[0], point[1], 'ko')\n",
        "axes.set_title(\"$P_N(x)$\")\n",
        "axes.set_xlabel(\"x\")\n",
        "axes.set_ylabel(\"$P_N(x)$\")\n",
        "    \n",
        "plt.show()"
      ],
      "execution_count": 0,
      "outputs": []
    },
    {
      "cell_type": "markdown",
      "metadata": {
        "id": "IPpoMvYJ-Or5",
        "colab_type": "text"
      },
      "source": [
        "#### Exercici 5: Interpolació de $sin(2\\pi x)$\n",
        "\n",
        "Utilitza el codi anterior que genera la base Lagrangiana per fer una interpolació de $\\sin$ a l'interval $x \\in [-1, 1]$.  \n",
        "\n",
        "- Quin és el resultat per $N =4$? $N =5$? $N = 6$? $N \\to \\infty$?\n",
        "- Fes gràfiques de la base Lagrangiana, el polinomi interpolador i de l'error entre $f(x)$ i $P_N(x)$."
      ]
    },
    {
      "cell_type": "code",
      "metadata": {
        "id": "1KoG_B7kIcFs",
        "colab_type": "code",
        "colab": {}
      },
      "source": [
        "# Genera N punts (x_i,y_i) en l'interval [-1,1] tal que y_i = sin(2*pi*x_i)\n",
        "\n",
        "# Modifica el codi anterior pel cas f(x) = sin(2*pi*x)\n"
      ],
      "execution_count": 0,
      "outputs": []
    },
    {
      "cell_type": "code",
      "metadata": {
        "id": "70QZ83Vb-Or6",
        "colab_type": "code",
        "cellView": "form",
        "colab": {}
      },
      "source": [
        "#@title\n",
        "num_points = 4\n",
        "# num_points = 5\n",
        "# num_points = 6\n",
        "# num_points = 20\n",
        "data = numpy.empty((num_points, 2))\n",
        "data[:, 0] = numpy.linspace(-1, 1, num_points)\n",
        "data[:, 1] = numpy.sin(2.0 * numpy.pi * data[:, 0])\n",
        "N = data.shape[0] - 1 # Degree of polynomial\n",
        "M = data.shape[0]\n",
        "x = numpy.linspace(-1.0, 1.0, 100)\n",
        "\n",
        "# ====================================================\n",
        "# Plot individual basis functions\n",
        "fig = plt.figure()\n",
        "axes = fig.add_subplot(1, 1, 1)\n",
        "basis = lagrange_basis(x, data)\n",
        "for i in range(N + 1):\n",
        "    axes.plot(x, basis[i, :], label=\"$\\ell_{%s}(x)$\" % i)\n",
        "\n",
        "axes.set_title(\"Lagrange Basis $\\ell_i(x)$\")\n",
        "axes.set_xlabel(\"x\")\n",
        "axes.set_ylabel(\"$\\ell_i(x)$\")\n",
        "axes.legend(loc=1)\n",
        "\n",
        "# Plot full polynomial P_N(x)\n",
        "fig = plt.figure()\n",
        "axes = fig.add_subplot(1, 1, 1)\n",
        "axes.plot(x, poly_interpolant(x, data), label=\"$P_{%s}(x)$\" % N)\n",
        "axes.plot(x, numpy.sin(2.0 * numpy.pi * x), 'r--', label=\"True $f(x)$\")\n",
        "for point in data:\n",
        "    axes.plot(point[0], point[1], 'ko')\n",
        "axes.set_title(\"$P_N(x)$\")\n",
        "axes.set_xlabel(\"x\")\n",
        "axes.set_ylabel(\"$P_N(x)$\")\n",
        "axes.legend(loc=1)\n",
        "\n",
        "# Plot error\n",
        "fig = plt.figure()\n",
        "axes = fig.add_subplot(1, 1, 1)\n",
        "axes.plot(x,numpy.abs(poly_interpolant(x, data) - numpy.sin(2.0 * numpy.pi * x)))\n",
        "axes.set_xlabel(\"x\")\n",
        "axes.set_ylabel(\"$|P_N(x) - f(x)|$\")\n",
        "    \n",
        "plt.show()"
      ],
      "execution_count": 0,
      "outputs": []
    },
    {
      "cell_type": "markdown",
      "metadata": {
        "id": "DRvwMhfe-Or-",
        "colab_type": "text"
      },
      "source": [
        "#### Exercici 6: Funció de Runge\n",
        "\n",
        "Fes una interpolació de $f(x) = \\frac{1}{1 + 25 x^2}$ a l'interval $x \\in [-1, 1]$.\n",
        "\n",
        "- Amb $N =4$\n",
        "- Amb $N = 10$\n",
        "- Incrementa el nombre de punts a la interpolació i observa què passa.\n"
      ]
    },
    {
      "cell_type": "code",
      "metadata": {
        "id": "WRx53z0YKIgo",
        "colab_type": "code",
        "colab": {}
      },
      "source": [
        "# Modifica el codi anterior pel cas f(x) = 1/(1+25*x**2)"
      ],
      "execution_count": 0,
      "outputs": []
    },
    {
      "cell_type": "code",
      "metadata": {
        "scrolled": true,
        "id": "d8XJxZ8B-Or_",
        "colab_type": "code",
        "cellView": "form",
        "colab": {}
      },
      "source": [
        "#@title\n",
        "def f(x):\n",
        "    return 1.0 / (1.0 + 25.0 * x**2)\n",
        "\n",
        "x = numpy.linspace(-1, 1, 100)\n",
        "# x = numpy.linspace(-2, 2, 100)\n",
        "\n",
        "num_points = 4\n",
        "# num_points = 10\n",
        "# num_points = 20\n",
        "data = numpy.empty((num_points, 2))\n",
        "data[:, 0] = numpy.linspace(-1, 1, num_points)\n",
        "data[:, 1] = f(data[:, 0])\n",
        "N = data.shape[0] - 1\n",
        "    \n",
        "# Plot the results\n",
        "fig = plt.figure()\n",
        "axes = fig.add_subplot(1, 1, 1)\n",
        "\n",
        "axes.plot(x, poly_interpolant(x, data), 'b', label=\"$P_6(x)$\")\n",
        "axes.plot(x, f(x), 'k', label=\"True $f(x)$\")\n",
        "axes.plot(data[:, 0], data[:, 1], 'ro', label=\"data\")\n",
        "          \n",
        "axes.set_title(\"Interpolation of Runge's function\")\n",
        "axes.set_xlabel(\"x\")\n",
        "axes.set_ylabel(\"y\")\n",
        "axes.legend(loc=1)\n",
        "\n",
        "plt.show()"
      ],
      "execution_count": 0,
      "outputs": []
    },
    {
      "cell_type": "markdown",
      "metadata": {
        "id": "ceCMM0DU-OsD",
        "colab_type": "text"
      },
      "source": [
        "#### Exercici 7: Funció \"Monstre\" de Weierstrass\n",
        "\n",
        "Definida com\n",
        "$$\n",
        "    f(x) = \\sum^\\infty_{n=0} a^n \\cos(b^n \\pi x)\n",
        "$$\n",
        "de manera que\n",
        "$$\n",
        "    0 < a < 1 \\quad \\text{and} \\quad a b > 1 + \\frac{3\\pi}{2}.\n",
        "$$\n",
        "\n",
        "Aquesta funció és contínua a tot punt però no és derivable enlloc.ere."
      ]
    },
    {
      "cell_type": "code",
      "metadata": {
        "id": "p_rjwO_GK36Y",
        "colab_type": "code",
        "colab": {}
      },
      "source": [
        "# Defineix la funció Monstre de Weierstrass \n",
        "def f(x,a,N):\n",
        "  pass\n",
        "  \n",
        "# Utilitza el codi anterior per fer una interpolació de f a de [-1,1]"
      ],
      "execution_count": 0,
      "outputs": []
    },
    {
      "cell_type": "code",
      "metadata": {
        "id": "MdQsl397-OsE",
        "colab_type": "code",
        "cellView": "form",
        "colab": {}
      },
      "source": [
        "#@title\n",
        "def f(x, a=0.9, N=100):\n",
        "    summation = 0.0\n",
        "    b = (1.0 + 3.0 / 2.0 * numpy.pi) / a + 0.01\n",
        "    print(b)\n",
        "    for n in range(N + 1):\n",
        "        summation += a**n * numpy.cos(b**n * numpy.pi * x)\n",
        "    return summation\n",
        "\n",
        "x = numpy.linspace(-1, 1, 1000)\n",
        "# x = numpy.linspace(-2, 2, 100)\n",
        "\n",
        "num_points = 10\n",
        "data = numpy.empty((num_points, 2))\n",
        "data[:, 0] = numpy.linspace(-1, 1, num_points)\n",
        "data[:, 1] = f(data[:, 0])\n",
        "N = data.shape[0] - 1\n",
        "    \n",
        "# Plot the results\n",
        "fig = plt.figure()\n",
        "axes = fig.add_subplot(1, 1, 1)\n",
        "\n",
        "axes.plot(x, poly_interpolant(x, data), 'b', label=\"$P_6(x)$\")\n",
        "axes.plot(x, f(x), 'k', label=\"True $f(x)$\")\n",
        "axes.plot(data[:, 0], data[:, 1], 'ro', label=\"data\")\n",
        "          \n",
        "axes.set_title(\"Interpolation of Weierstrass's Monster function\")\n",
        "axes.set_xlabel(\"x\")\n",
        "axes.set_ylabel(\"y\")\n",
        "axes.legend(loc=1)\n",
        "\n",
        "plt.show()"
      ],
      "execution_count": 0,
      "outputs": []
    },
    {
      "cell_type": "markdown",
      "metadata": {
        "id": "urP_bNQ0-OsJ",
        "colab_type": "text"
      },
      "source": [
        "### Rules of Thumb\n",
        "\n",
        "- Evita interpoladors d'ordre elevat sempre que sigui possible! Augmenta el el nombre de punts per veure què passa.\n",
        "- Evita fer extrapolacions. Prova a incrementar el rang de $x$ en els exemples anteriors i observa si l'aproximació de l'interpolador mes enllà de l'interval de mostar és bona.\n"
      ]
    },
    {
      "cell_type": "markdown",
      "metadata": {
        "id": "t9VQxJii-OsM",
        "colab_type": "text"
      },
      "source": [
        "### Anàlisi d'errors\n",
        "\n",
        "**Teorema**  Lagrange's Remainder Theorem - Sigui $f(x) \\in C^{N+1}[-1, 1]$, llavors\n",
        "$$\n",
        "    f(x) = \\mathcal{P}_N(x) + R_N(x)\n",
        "$$\n",
        "on $\\mathcal{P}_N(x)$ iés el polinomi interpolador i\n",
        "$$\n",
        "    R_N(x) = Q(x) \\frac{f^{(N+1)}(c)}{(N+1)!} \\quad \\text{amb} \\quad c \\in [-1,1]\n",
        "$$\n",
        "on\n",
        "$$\n",
        "    Q(x) = \\prod^N_{i=0} (x - x_i) = (x-x_0)(x-x_1)\\cdots(x-x_N) .\n",
        "$$\n",
        "\n",
        "Coses a prendre en compte:\n",
        "- Pel Teorema de Lagrange l'error es cancel·la per tots $x_i$.\n",
        "  - Per minimitzar $R_N(x)$ es requereix minimitzar $|Q(x)|$ per $x \\in [-1, 1]$."
      ]
    },
    {
      "cell_type": "markdown",
      "metadata": {
        "id": "XRKSo7Y2-OsN",
        "colab_type": "text"
      },
      "source": [
        "#### Minimització de $R_N(x)$\n",
        "\n",
        "Minimitzar l'error $R_N(x)$ al teorema de Lagrange és equivalent a minimitzar $|Q(x)|$ per $x \\in [-1, 1]$.\n",
        "\n",
        "Minimitzar l'error $\\Leftrightarrow$ trobar les arrels de $Q(x)$ o prendre els punts d'interpolació. Com fem això?\n"
      ]
    },
    {
      "cell_type": "markdown",
      "metadata": {
        "id": "YsLo2YQL-OsO",
        "colab_type": "text"
      },
      "source": [
        "### Polinomis de Chebyshev\n",
        "\n",
        "Els *polinomis de Chebyshev* $T_N(x)$ són una altra base que es pot utilitzar per l'interpolació.\n",
        "\n",
        "Els primers 5 polinomis:\n",
        "\n",
        "$$T_0(x) = 1$$\n",
        "\n",
        "$$T_1(x) = x$$\n",
        "\n",
        "$$T_2(x) = 2 x^2 - 1$$\n",
        "\n",
        "$$T_3(x) = 4 x^3 - 3 x$$\n",
        "\n",
        "$$T_4(x) = 8x^4 - 8x^2 + 1$$"
      ]
    },
    {
      "cell_type": "code",
      "metadata": {
        "id": "o97BnQQQ-OsP",
        "colab_type": "code",
        "colab": {}
      },
      "source": [
        "def cheb_poly(x, N):\n",
        "    \"\"\"Compute the *N*th Chebyshev polynomial and evaluate it at *x*\"\"\"\n",
        "    T = numpy.empty((3, x.shape[0]))\n",
        "    T[0, :] = numpy.ones(x.shape)\n",
        "    T[1, :] = x\n",
        "    if N == 0:\n",
        "        return T[0, :]\n",
        "    elif N == 1:\n",
        "        return T[1, :]\n",
        "    else:\n",
        "        for k in range(2, N + 1):\n",
        "            T[2, :] = 2.0 * x * T[1, :] - T[0, :]\n",
        "            T[0, :] = T[1, :]\n",
        "            T[1, :] = T[2, :]\n",
        "    \n",
        "        return T[2, :]\n",
        "\n",
        "x = numpy.linspace(-1, 1, 100)\n",
        "\n",
        "fig = plt.figure()\n",
        "axes = fig.add_subplot(1, 1, 1)\n",
        "\n",
        "for n in range(5):\n",
        "    axes.plot(x, cheb_poly(x, n), label=\"$T_%s$\" % n)\n",
        "\n",
        "axes.set_ylim((-1.1, 1.1))\n",
        "axes.set_title(\"Chebyshev Polynomials\")\n",
        "axes.set_xlabel(\"x\")\n",
        "axes.set_ylabel(\"$T_N(x)$\")\n",
        "axes.legend(loc=1)\n",
        "\n",
        "plt.show()"
      ],
      "execution_count": 0,
      "outputs": []
    },
    {
      "cell_type": "markdown",
      "metadata": {
        "id": "Zahf3MA0-OsT",
        "colab_type": "text"
      },
      "source": [
        "1.Les arrels dels polinomis de Chebyshev\n",
        "$$\n",
        "    x_k = \\cos \\left (\\frac{(2 k - 1) \\pi}{2 N} \\right ) \\quad k = 1, \\ldots, N\n",
        "$$\n",
        "1.Els extrems dels polinomis de Chebyshev\n",
        "$$\n",
        "    x_k = \\cos \\left( \\frac{k \\pi}{N} \\right) \\quad k = 0, \\ldots, N\n",
        "$$\n",
        "\n"
      ]
    },
    {
      "cell_type": "code",
      "metadata": {
        "id": "r-gXVrGL-OsU",
        "colab_type": "code",
        "colab": {}
      },
      "source": [
        "N = 5\n",
        "x_extrema = numpy.cos(numpy.arange(N + 1) * numpy.pi / N)\n",
        "x_nodes = numpy.cos((2.0 * numpy.arange(1, N + 1) - 1.0) / (2.0 * N) * numpy.pi)\n",
        "\n",
        "fig = plt.figure()\n",
        "# fig.set_figwidth(fig.get_figwidth() * 2)\n",
        "axes = fig.add_subplot(1, 1, 1)\n",
        "\n",
        "# Plot points\n",
        "axes.plot(x_extrema, numpy.zeros(N+1), 'ro')\n",
        "axes.plot(x_nodes, numpy.zeros(N), 'bo')\n",
        "    \n",
        "# Plot some helpful lines\n",
        "axes.plot((-1.0, -1.0), (-1.1, 1.1), 'k--')\n",
        "axes.plot((1.0, 1.0), (-1.1, 1.1), 'k--')\n",
        "axes.plot((-1.0, 1.0), (0.0, 0.0), 'k--')\n",
        "for i in range(x_extrema.shape[0]):\n",
        "    axes.plot((x_extrema[i], x_extrema[i]), (-1.1, 1.1), 'r--')\n",
        "    axes.plot(x_extrema[i], cheb_poly(x_extrema, N)[i], 'ro')\n",
        "\n",
        "print(x_extrema)\n",
        "print(numpy.cos(x_extrema))\n",
        "    \n",
        "# Plot Chebyshev polynomial\n",
        "x_hat = numpy.linspace(-1, 1, 1000)\n",
        "axes.plot(x_hat, cheb_poly(x_hat, N), 'k')\n",
        "axes.set_xlim((-1.1, 1.1))\n",
        "axes.set_ylim((-1.1, 1.1))\n",
        "\n",
        "# Labels\n",
        "axes.set_title(\"Chebyshev Nodes and Extrema\", fontsize=\"20\")\n",
        "axes.set_xlabel(\"x\", fontsize=\"15\")\n",
        "axes.set_ylabel(\"$T_{N+1}(x)$\", fontsize=\"15\")\n",
        "\n",
        "plt.show()"
      ],
      "execution_count": 0,
      "outputs": []
    },
    {
      "cell_type": "code",
      "metadata": {
        "id": "aJGuetZL-OsX",
        "colab_type": "code",
        "colab": {}
      },
      "source": [
        "# First-kind Nesting (3 x)\n",
        "fig = plt.figure()\n",
        "# fig.set_figwidth(fig.get_figwidth() * 2)\n",
        "axes = fig.add_subplot(1, 1, 1)\n",
        "\n",
        "N = 5\n",
        "factor = 3\n",
        "x_1 = numpy.cos((2.0 * numpy.arange(1, N + 1) - 1.0) / (2.0 * N) * numpy.pi)\n",
        "x_2 = numpy.cos((2.0 * numpy.arange(1, factor * N + 1) - 1.0) / (2.0 * factor * N) * numpy.pi)\n",
        "\n",
        "axes.plot(x_1, numpy.zeros(N), \"ko\", color=\"r\", markerfacecolor=\"red\", markersize=\"15\")\n",
        "axes.plot(x_2, numpy.zeros(N * factor), 'ko', color=\"b\", markersize=\"10\")\n",
        "\n",
        "x_hat = numpy.linspace(-1, 1, 1000)\n",
        "axes.plot(x_hat, cheb_poly(x_hat, N), 'k', color='darkred')\n",
        "axes.plot(x_hat, cheb_poly(x_hat, factor * N), 'k', color='darkblue')\n",
        "axes.set_xlim((-1.1, 1.1))\n",
        "axes.set_ylim((-1.1, 1.1))\n",
        "axes.set_title(\"Nesting of 1st and 2nd Kind Chebyshev Polynomials\")\n",
        "axes.set_xlabel(\"$x$\")\n",
        "axes.set_ylabel(\"$T_N(x)$\")\n",
        "plt.show()"
      ],
      "execution_count": 0,
      "outputs": []
    },
    {
      "cell_type": "markdown",
      "metadata": {
        "id": "QpmZrE8l-Osa",
        "colab_type": "text"
      },
      "source": [
        "#### Propietats dels polinomis de Chebyshev\n",
        "1. Definits per la relació de recurrència\n",
        "\n",
        "   $$T_k(x) = 2 x T_{k-1}(x) - T_{k-2}(x)$$"
      ]
    },
    {
      "cell_type": "markdown",
      "metadata": {
        "id": "pOmDtRGY-Osb",
        "colab_type": "text"
      },
      "source": [
        "2. El coeficient de $x^N$ per $T_N(x)$ és $2^{N-1}$ per $N \\geq 1$"
      ]
    },
    {
      "cell_type": "markdown",
      "metadata": {
        "id": "0_cGTVcf-Osc",
        "colab_type": "text"
      },
      "source": [
        "\n",
        "3. Extrems:\n",
        "\n",
        "   $$|T_N(x)| \\leq 1 \\quad \\text{per} \\quad  -1 \\leq x \\leq 1$$\n",
        " "
      ]
    },
    {
      "cell_type": "markdown",
      "metadata": {
        "id": "FsyiimL2-Osd",
        "colab_type": "text"
      },
      "source": [
        "\n",
        "4. Minimax: El polinomi\n",
        "\n",
        "   $$T(x) = \\frac{T_{N+1}(x)}{2^N}$$\n",
        "   \n",
        "   és un *polinomi mònic*,  polinomi en què el coeficient del seu terme de major grau pren el valor 1, que compleix\n",
        "   \n",
        "   $$\n",
        "       \\max |T(x)| \\leq \\max |Q(X)| \\quad \\text{per} \\quad  x \\in [-1, 1], \\quad \\text{i}\n",
        "   $$\n",
        "   $$\n",
        "       \\max |T(x)| = \\frac{1}{2^N}\n",
        "   $$\n",
        "   \n",
        "   Recorda que el terme resta al Teorema de Lagrange era:\n",
        "   $$\n",
        "        R_N(x) = Q(x) \\frac{f^{(N+1)}(c)}{(N+1)!} \\quad \\text{amb} \\quad c \\in [-1,1]\n",
        "   $$\n",
        "   on\n",
        "   $$\n",
        "        Q(x) = \\prod^N_{i=0} (x - x_i) = (x-x_0)(x-x_1)\\cdots(x-x_N) .\n",
        "   $$"
      ]
    },
    {
      "cell_type": "markdown",
      "metadata": {
        "id": "nO0_zUYv-Ose",
        "colab_type": "text"
      },
      "source": [
        "#### Anàlisi de reducció de l'error\n",
        "\n",
        "Donat que els polinomis de Chebyshev són mínims a l'interval $[-1, 1]$ voldríem que $T(x) = Q(x)$. \n",
        "\n",
        "Com que només sabem les arrels de $Q(x)$ (els $x_i$) requerim que aquestes siguin les arrels del polinomi de Chebyshev $T_{N+1}(x)$ cosa que implica $T(x) = Q(x)$."
      ]
    },
    {
      "cell_type": "markdown",
      "metadata": {
        "id": "c6H1UY5E-Osg",
        "colab_type": "text"
      },
      "source": [
        "Com hem dit abans, les arrels de $T_N(x)$ a l'interval $[-1, 1]$ satisfan\n",
        "$$\n",
        "    x_k = \\cos\\left( \\frac{(2k - 1) \\pi}{2 N} \\right ) \\quad \\text{per} \\quad k=1, \\ldots, N\n",
        "$$\n",
        "\n",
        "Prenent com a mostra de dades per interpolació aquests punts minimitzarà, doncs, l'error."
      ]
    },
    {
      "cell_type": "code",
      "metadata": {
        "id": "712Cl4vJ-Osh",
        "colab_type": "code",
        "colab": {}
      },
      "source": [
        "x = numpy.linspace(0, numpy.pi, 100)\n",
        "N = 15\n",
        "\n",
        "fig = plt.figure()\n",
        "axes = fig.add_subplot(1, 1, 1, aspect=\"equal\")\n",
        "\n",
        "axes.plot(numpy.cos(x), numpy.sin(x), 'r--')\n",
        "axes.plot(numpy.linspace(-1.1, 1.1, 100), numpy.zeros(x.shape), 'r')\n",
        "for k in range(1, N + 1):\n",
        "    location = [numpy.cos((2.0 * k - 1.0) * numpy.pi / (2.0 * N)),\n",
        "                numpy.sin((2.0 * k - 1.0) * numpy.pi / (2.0 * N))]\n",
        "    axes.plot(location[0], location[1], 'ko')\n",
        "    axes.plot(location[0], 0.0, 'ko')\n",
        "    axes.plot([location[0], location[0]], [0.0, location[1]], 'k--')\n",
        "    \n",
        "axes.set_xlim((-1.1, 1.1))\n",
        "axes.set_ylim((-0.1, 1.1))\n",
        "plt.show()"
      ],
      "execution_count": 0,
      "outputs": []
    },
    {
      "cell_type": "markdown",
      "metadata": {
        "id": "euqC6Cis-Osk",
        "colab_type": "text"
      },
      "source": [
        "#### Resum\n",
        "\n",
        "1. Minimitzar l'error al Teorema de Lagrange és equivalent a minimitzar:\n",
        "$$\n",
        "    |Q(x)| \\quad \\text{for} \\quad x \\in [-1, 1].\n",
        "$$\n",
        "1. Sabem que els polinomis de Chebyshev són mínims a l'interval $[-1, 1]$ per tant voldríem $T(x) = Q(x)$.\n",
        "1. Com que només sabem les arrels de $Q(x)$ (els $x_i$) requerim que aquestes siguin les arrels del polinomi de Chebyshev $T_{N+1}(x)$ cosa que implica $T(x) = Q(x)$.\n",
        "1. Les arrels de $T_N(x)$ a l'interval $[-1, 1]$ satisfan\n",
        "$$\n",
        "    x_k = \\cos\\left( \\frac{(2k - 1) \\pi}{2 N} \\right ) \\quad \\text{per} \\quad k=1, \\ldots, N\n",
        "$$\n",
        "Prenent com a mostra de dades per interpolació aquests punts minimitzarà, doncs, l'error."
      ]
    },
    {
      "cell_type": "markdown",
      "metadata": {
        "id": "TC0Ov23k-Osl",
        "colab_type": "text"
      },
      "source": [
        "**Noteu**\n",
        "\n",
        "- Els nodes de Chebyshev minimitzen l'error d'interpolació per qualsevol base (degut a la unicitat del polinomi interpolador)."
      ]
    },
    {
      "cell_type": "markdown",
      "metadata": {
        "id": "nDbXkRwkXvyR",
        "colab_type": "text"
      },
      "source": [
        "#### Exercici 8\n",
        "\n",
        "Escriu un codi que per la funció de Runge:\n",
        "\n",
        "$$ f(x) = \\frac{1}{1 + 25 x^2}$$\n",
        "\n",
        "genera un array de punts (x_i,f(x_i)):\n",
        "\n",
        "- On els x_i són equidistants.\n",
        "- On els x_i són els nodes de Chebyshev"
      ]
    },
    {
      "cell_type": "code",
      "metadata": {
        "id": "0EiwUDwwXvDb",
        "colab_type": "code",
        "colab": {}
      },
      "source": [
        "def f(x):\n",
        "    return 1.0 / (1.0 + 25.0 * x**2)\n",
        "\n",
        "# Parameters\n",
        "x = numpy.linspace(-1, 1, 100)\n",
        "num_points = 25\n",
        "\n",
        "# ============================================================\n",
        "#  Equidistant nodes\n",
        "\n",
        "# ============================================================\n",
        "#  Chebyshev nodes\n"
      ],
      "execution_count": 0,
      "outputs": []
    },
    {
      "cell_type": "code",
      "metadata": {
        "id": "IpLY7i7Y-Osm",
        "colab_type": "code",
        "cellView": "form",
        "colab": {}
      },
      "source": [
        "#@title\n",
        "def f(x):\n",
        "    return 1.0 / (1.0 + 25.0 * x**2)\n",
        "\n",
        "# Parameters\n",
        "x = numpy.linspace(-1, 1, 100)\n",
        "num_points = 25\n",
        "\n",
        "# ============================================================\n",
        "#  Equidistant nodes\n",
        "equidistant_data = numpy.empty((num_points, 2))\n",
        "equidistant_data[:, 0] = numpy.linspace(-1, 1, num_points)\n",
        "equidistant_data[:, 1] = f(equidistant_data[:, 0])\n",
        "N = equidistant_data.shape[0] - 1\n",
        "\n",
        "P_lagrange = poly_interpolant(x, equidistant_data)\n",
        "\n",
        "# ============================================================\n",
        "#  Chebyshev nodes\n",
        "chebyshev_data = numpy.empty((num_points, 2))\n",
        "chebyshev_data[:, 0] = numpy.cos((2.0 * numpy.arange(1, num_points + 1) - 1.0) * numpy.pi / (2.0 * num_points))\n",
        "chebyshev_data[:, 1] = f(chebyshev_data[:, 0])\n",
        "\n",
        "P_cheby1 = poly_interpolant(x, chebyshev_data)\n",
        "    \n",
        "# Fit directly with Chebyshev polynomials\n",
        "coeff = numpy.polynomial.chebyshev.chebfit(chebyshev_data[:, 0], chebyshev_data[:, 1], N)\n",
        "P_cheby2 = numpy.polynomial.chebyshev.chebval(x, coeff)\n",
        "\n",
        "# Check on unique polynomials\n",
        "print(numpy.allclose(P_cheby1, P_cheby2))\n",
        "\n",
        "# ============================================================\n",
        "# Plot the results\n",
        "fig = plt.figure()\n",
        "fig.subplots_adjust(hspace=.5)\n",
        "\n",
        "axes = fig.add_subplot(2, 1, 1)\n",
        "axes.plot(x, P_lagrange, 'b', label=\"$P_%s(x)$\" % N)\n",
        "axes.plot(x, f(x), 'k', label=\"True $f(x)$\")\n",
        "axes.plot(equidistant_data[:, 0], equidistant_data[:, 1], 'ro', label=\"data\")\n",
        "axes.set_title(\"Interpolation of Runge's function at Equispaced Points\")\n",
        "axes.set_xlabel(\"x\")\n",
        "axes.set_ylabel(\"y\")\n",
        "axes.legend(loc=8)\n",
        "print(numpy.linalg.norm(P_lagrange - f(x)))\n",
        "\n",
        "axes = fig.add_subplot(2, 1, 2)\n",
        "axes.plot(x, f(x), 'k', label=\"True $f(x)$\")\n",
        "axes.plot(x, P_cheby1, 'b', label=\"$P_%s(x)$\" % N)\n",
        "axes.plot(chebyshev_data[:, 0], chebyshev_data[:, 1], 'ro', label=\"data\")\n",
        "          \n",
        "axes.set_title(\"Interpolation of Runge's function at Chebyshev Points\")\n",
        "axes.set_xlabel(\"x\")\n",
        "axes.set_ylabel(\"y\")\n",
        "axes.legend(loc=1)\n",
        "print(numpy.linalg.norm(P_cheby1 - f(x)))\n",
        "\n",
        "\n",
        "plt.show()"
      ],
      "execution_count": 0,
      "outputs": []
    },
    {
      "cell_type": "markdown",
      "metadata": {
        "id": "KU4RUMU--Osp",
        "colab_type": "text"
      },
      "source": [
        "## Interpolació polinomial definida a trossos\n",
        "\n",
        "Donats $N$ punts, utilitza polinomis de baix ordre per interpolar la funció a trossos. Podem escollir l'ordre dels polinomis i la continuïtat:\n",
        "\n",
        " - $C^0$: L'interpolador és continu\n",
        "   - Interpolació lineal\n",
        "   - Interpolació quadràtica\n",
        " - $C^1$: L'interpolador i la seva primera derivada són contínues\n",
        "   - Polinomi Cúbic d'Hermite (PCHiP)\n",
        " - $C^2$: L'interpolador, la primera i la segona derivada són contínues.\n",
        "   - Cubic splines"
      ]
    },
    {
      "cell_type": "markdown",
      "metadata": {
        "id": "v7rc3Jsq-Osp",
        "colab_type": "text"
      },
      "source": [
        "### Lineal a trossos\n",
        "\n",
        "Donat un segment entre els punts $(x_k, y_k)$i $(x_{k+1}, y_{k+1})$ definim el segment com\n",
        "\n",
        "$$\\mathcal{P}_k(x) = \\frac{y_{k+1} - y_k}{x_{k+1} - x_k} (x - x_k) + y_k$$\n",
        "\n",
        "L'interpolador final $\\mathcal{P}(x)$ és llavors definit sobre $[x_k, x_{k+1}]$ utilitzant aquesta funció."
      ]
    },
    {
      "cell_type": "code",
      "metadata": {
        "id": "7wwqK-yXCLD8",
        "colab_type": "code",
        "colab": {
          "base_uri": "https://localhost:8080/",
          "height": 299
        },
        "outputId": "7b49b3ae-19fd-4df2-8078-d365961e0c8e"
      },
      "source": [
        "data = numpy.array([[1.0, 3.0], [2.0, 1.0], [3.5, 4.0], [5.0, 0.0], [6.0, 0.5], [9.0, -2.0], [9.5, -3.0]])\n",
        "x = numpy.linspace(0.0, 10, 100)\n",
        "N = data.shape[0] - 1\n",
        "\n",
        "# Construeix un array P_linear de mida x.shape que per cada x doni el valor de \n",
        "# l'interpolador lineal a trossos\n",
        "P_linear = numpy.zeros(x.shape)\n",
        "#\n",
        "#\n",
        "#\n",
        "\n",
        "# Plot\n",
        "fig = plt.figure()\n",
        "axes = fig.add_subplot(1, 1, 1)\n",
        "\n",
        "axes.plot(data[:,0], data[:,1], 'ko')\n",
        "axes.plot(x, P_linear, 'r')\n",
        "\n",
        "axes.set_title(\"Interpolated Data - $C^0$ Linear\")\n",
        "axes.set_xlabel(\"x\")\n",
        "axes.set_ylabel(\"$P_1(x)$\")\n",
        "axes.set_xlim([0.0, 10.0])\n",
        "axes.set_ylim([-4.0, 15.0])\n",
        "\n",
        "plt.show()"
      ],
      "execution_count": 14,
      "outputs": [
        {
          "output_type": "display_data",
          "data": {
            "image/png": "[encoded data removed]",
            "text/plain": [
              "<Figure size 432x288 with 1 Axes>"
            ]
          },
          "metadata": {
            "tags": []
          }
        }
      ]
    },
    {
      "cell_type": "code",
      "metadata": {
        "id": "OhtpNwS4-Osq",
        "colab_type": "code",
        "cellView": "form",
        "colab": {
          "base_uri": "https://localhost:8080/",
          "height": 299
        },
        "outputId": "df9f15cd-877c-492a-f714-ebca650c10c8"
      },
      "source": [
        "#@title\n",
        "data = numpy.array([[1.0, 3.0], [2.0, 1.0], [3.5, 4.0], [5.0, 0.0], [6.0, 0.5], [9.0, -2.0], [9.5, -3.0]])\n",
        "x = numpy.linspace(0.0, 10, 100)\n",
        "N = data.shape[0] - 1\n",
        "\n",
        "# Lagrange Basis\n",
        "P_lagrange = poly_interpolant(x, data)\n",
        "\n",
        "# C^0 Piece-wise linear\n",
        "# P_pw_linear = numpy.interp(x, data[:, 0], data[:, 1])\n",
        "P_linear = numpy.zeros(x.shape)\n",
        "for n in range(1, N + 1):\n",
        "    P_linear += ((data[n, 1] - data[n - 1, 1]) / (data[n, 0] - data[n - 1, 0]) * (x - data[n - 1, 0]) \n",
        "                         + data[n - 1, 1]) * (x > data[n - 1, 0]) * (x <= data[n, 0])\n",
        "# Add end points for continuity\n",
        "P_linear += numpy.ones(x.shape) * data[0, 1] * (x < data[0, 0])\n",
        "P_linear += numpy.ones(x.shape) * data[-1, 1] * (x >= data[-1, 0])\n",
        "\n",
        "# Plot\n",
        "fig = plt.figure()\n",
        "axes = fig.add_subplot(1, 1, 1)\n",
        "\n",
        "axes.plot(data[:,0], data[:,1], 'ko')\n",
        "axes.plot(x, P_lagrange, 'b--')\n",
        "axes.plot(x, P_linear, 'r')\n",
        "\n",
        "axes.set_title(\"Interpolated Data - $C^0$ Linear\")\n",
        "axes.set_xlabel(\"x\")\n",
        "axes.set_ylabel(\"$P_1(x)$\")\n",
        "axes.set_xlim([0.0, 10.0])\n",
        "axes.set_ylim([-4.0, 15.0])\n",
        "\n",
        "plt.show()"
      ],
      "execution_count": 15,
      "outputs": [
        {
          "output_type": "display_data",
          "data": {
            "image/png": "[encoded data removed]",
            "text/plain": [
              "<Figure size 432x288 with 1 Axes>"
            ]
          },
          "metadata": {
            "tags": []
          }
        }
      ]
    },
    {
      "cell_type": "markdown",
      "metadata": {
        "id": "J1wRWrKb-Ost",
        "colab_type": "text"
      },
      "source": [
        "### Polinomis superposats a trossos\n",
        "\n",
        "En conjunts de tres punts  $(x_{k+1}, y_{k+1})$, $(x_{k}, y_{k})$, i $(x_{k-1}, y_{k-1})$, trobem l'interpolador quadràtic i definim l'interpolador final $P(x)$ a partir de l'interpolador quadràtic $\\mathcal{P}_k(x)$ sobre $[x_{k-1}, x_{k+1}]$."
      ]
    },
    {
      "cell_type": "code",
      "metadata": {
        "id": "OJaCx5Oq-Osv",
        "colab_type": "code",
        "colab": {
          "base_uri": "https://localhost:8080/",
          "height": 299
        },
        "outputId": "fd601097-cdb7-40c6-9bb1-02dd4bf9c7ab"
      },
      "source": [
        "data = numpy.array([[1.0, 3.0], [2.0, 1.0], [3.5, 4.0], [5.0, 0.0], [6.0, 0.5], [9.0, -2.0], [9.5, -3.0]])\n",
        "x = numpy.linspace(0.0, 10, 100)\n",
        "N = data.shape[0] - 1\n",
        "\n",
        "# C^0 Piece-wise quadratic\n",
        "P_quadratic = numpy.zeros(x.shape)\n",
        "for k in range(1, N + 1, 2):\n",
        "    p = numpy.polyfit(data[k - 1:k + 2, 0], data[k - 1:k + 2, 1], 2)\n",
        "    P_quadratic += numpy.polyval(p, x) * (x > data[k - 1, 0]) * (x <= data[k + 1, 0])\n",
        "# Add end points for continuity\n",
        "P_quadratic += numpy.ones(x.shape) * data[0, 1] * (x < data[0, 0])\n",
        "P_quadratic += numpy.ones(x.shape) * data[-1, 1] * (x >= data[-1, 0])\n",
        "    \n",
        "# Plot\n",
        "fig = plt.figure()\n",
        "axes = fig.add_subplot(1, 1, 1)\n",
        "\n",
        "axes.plot(data[:,0], data[:,1], 'ko')\n",
        "axes.plot(x, P_lagrange, 'b--')\n",
        "axes.plot(x, P_quadratic, 'r')\n",
        "\n",
        "axes.set_title(\"Interpolated Data - $C^0$ Quadratic\")\n",
        "axes.set_xlabel(\"x\")\n",
        "axes.set_ylabel(\"$P_3(x)$\")\n",
        "axes.set_xlim([0.0, 10.0])\n",
        "axes.set_ylim([-4.0, 15.0])\n",
        "\n",
        "plt.show()"
      ],
      "execution_count": 16,
      "outputs": [
        {
          "output_type": "display_data",
          "data": {
            "image/png": "[encoded data removed]",
            "text/plain": [
              "<Figure size 432x288 with 1 Axes>"
            ]
          },
          "metadata": {
            "tags": []
          }
        }
      ]
    },
    {
      "cell_type": "markdown",
      "metadata": {
        "id": "Skdq9dRy-Osy",
        "colab_type": "text"
      },
      "source": [
        "### Interpolació cúbica $C^1$ a trossos\n",
        "\n",
        "En els dos casos anteriors teníem derivades primeres discontínues! Podem millorar-ho imposant condicions sobre els polinomis de manera que als extrems de cada troç els polinomis siguin continus.\n",
        "\n"
      ]
    },
    {
      "cell_type": "markdown",
      "metadata": {
        "id": "Wt3WCdge-Osz",
        "colab_type": "text"
      },
      "source": [
        "Donat un segment entre els punts $(x_k, y_k)$ i $(x_{k+1}, y_{k+1})$ volem interpolar una funció cúbica entre els dos punts.\n",
        "\n",
        "$$\\mathcal{P}_k(x) = p_0 + p_1 x + p_2 x^2 + p_3 x^3$$\n",
        "\n",
        "$$\\mathcal{P}_k(x_k) = y_k, \\quad \\mathcal{P}_k(x_{k+1}) = y_{k+1}$$"
      ]
    },
    {
      "cell_type": "markdown",
      "metadata": {
        "id": "RK64u6mX-Os1",
        "colab_type": "text"
      },
      "source": [
        "Tenim 4 paràmetres desconeguts però només 2 punts! Si posem condicions sobre la derivada a cada extrem de l'interval obtenim dues noves equacions i llavors podem resoldre l'interpolador.\n",
        "\n",
        "$$\\frac{\\text{d}}{\\text{dx}} \\mathcal{P}_k(x_k) = d_k, \\quad \\frac{\\text{d}}{\\text{dx}} \\mathcal{P}_k(x_{k+1}) = d_{k+1}$$\n",
        "\n",
        "A partir del polinomi cúbic trobem:\n",
        "\n",
        "$$\\begin{aligned}\n",
        "p_0 + p_1 x_k + p_2 x_k^2 + p_3 x_k^3 &= y_k \\\\\n",
        "p_0 + p_1 x_{k+1} + p_2 x_{k+1}^2 + p_3 x_{k+1}^3 &= y_{k+1} \\\\\n",
        "p_1 +  2p_2 x_k + 3 p_3 x_k^2 &= d_k \\\\\n",
        "p_1 + 2 p_2 x_{k+1} + 3 p_3 x_{k+1}^2 &= d_{k+1}\n",
        "\\end{aligned}$$"
      ]
    },
    {
      "cell_type": "markdown",
      "metadata": {
        "id": "U71GXFjY-Os2",
        "colab_type": "text"
      },
      "source": [
        "Si ho reescrivim com un sistema d'equacions:\n",
        "\n",
        "$$\\begin{bmatrix}\n",
        "    1 & x_k & x_k^2 & x_k^3 \\\\\n",
        "    1 & x_{k+1} & x_{k+1}^2 & x_{k+1}^3 \\\\\n",
        "    0 & 1 & 2 x_k & 3 x_k^2 \\\\\n",
        "    0 & 1 & 2 x_{k+1} & 3 x_{k+1}^2\n",
        "\\end{bmatrix} \\begin{bmatrix}\n",
        "p_0 \\\\ p_1 \\\\ p_2 \\\\ p_3\n",
        "\\end{bmatrix} = \\begin{bmatrix}\n",
        "y_k \\\\ y_{k+1} \\\\ d_k \\\\ d_{k+1}\n",
        "\\end{bmatrix}$$"
      ]
    },
    {
      "cell_type": "markdown",
      "metadata": {
        "id": "GfPaEGaO-Os3",
        "colab_type": "text"
      },
      "source": [
        "Comúnment es simplifica el problema re-parametritzant els punts de manera que $(x_k,y_k) \\to (0,y_k)$ i $(x_{k+1},y_{k+1}) \\to (1,y_{k+1})$ i treballem amb $s \\in [0,1]$\n",
        "\n",
        "Llavors el sistema queda:\n",
        "\n",
        "$$\\begin{bmatrix}\n",
        "    1 & 0 & 0 & 0 \\\\\n",
        "    1 & 1 & 1 & 1 \\\\\n",
        "    0 & 1 & 0 & 0 \\\\\n",
        "    0 & 1 & 2 & 3\n",
        "\\end{bmatrix} \\begin{bmatrix}\n",
        "p_0 \\\\ p_1 \\\\ p_2 \\\\ p_3\n",
        "\\end{bmatrix} = \\begin{bmatrix}\n",
        "y_k \\\\ y_{k+1} \\\\ d_k \\\\ d_{k+1}\n",
        "\\end{bmatrix}$$\n",
        "\n",
        "que pot ser resolt i trobem:\n",
        "\n",
        "$$\\begin{aligned}\n",
        "\\mathcal{P}(s) &= (1-s)^2 (1 + 2s) y_k + s^2 (3 - 2 s) y_{k+1} + s (1 - s)^2 d_k - s^2 (1 - s)d_{k+1}\\\\\n",
        "\\mathcal{P}'(s) &= 6s(s-1) y_k + 6s(1-s) y_{k+1} + (s-1)(3s-1) d_k - s(3s-2) d_{k+1}\\\\\n",
        "\\mathcal{P}''(s) &= 6 (1-2s)(y_{k+1} - y_k) + (6s - 4) d_k + (6s-2) d_{k+1}\n",
        "\\end{aligned}$$\n",
        "\n",
        "Ara bé, com escollim $d_k$?\n",
        "\n",
        "> Bloque con sangría\n",
        "\n"
      ]
    },
    {
      "cell_type": "markdown",
      "metadata": {
        "id": "7vvIN4Mn-Os4",
        "colab_type": "text"
      },
      "source": [
        "#### PCHIP\n",
        "\n",
        "Piecewise Cubic Hermite Interpolation Polynomial\n",
        "\n",
        " - Escollim el pendent que conserva la monotonía\n",
        "- També intentem preservar la forma de les dades\n",
        "- Noteu que en general aquest interpolador és  $\\mathcal{P}_k(x) \\in C^1$"
      ]
    },
    {
      "cell_type": "code",
      "metadata": {
        "id": "SjtHIpYk-Os6",
        "colab_type": "code",
        "colab": {
          "base_uri": "https://localhost:8080/",
          "height": 299
        },
        "outputId": "92e5b424-51fe-46ce-9d68-4a481db7508e"
      },
      "source": [
        "import scipy.interpolate as interpolate\n",
        "\n",
        "data = numpy.array([[1.0, 3.0], [2.0, 1.0], [3.5, 4.0], [5.0, 0.0], [6.0, 0.5], [9.0, -2.0], [9.5, -3.0]])\n",
        "x = numpy.linspace(0.0, 10, 100)\n",
        "\n",
        "# C^1 Piece-wise PCHIP\n",
        "P_pchip = interpolate.pchip_interpolate(data[:, 0], data[:, 1], x)\n",
        "\n",
        "# Plot\n",
        "fig = plt.figure()\n",
        "axes = fig.add_subplot(1, 1, 1)\n",
        "\n",
        "axes.plot(data[:,0], data[:,1], 'ro')\n",
        "axes.plot(x, P_pchip, 'r')\n",
        "\n",
        "axes.set_title(\"Interpolated Data - $C^1$ Cubic PCHIP\")\n",
        "axes.set_xlabel(\"x\")\n",
        "axes.set_ylabel(\"$P_3(x)$\")\n",
        "axes.set_xlim([0.0, 10.0])\n",
        "axes.set_ylim([-4.0, 15.0])\n",
        "\n",
        "plt.show()"
      ],
      "execution_count": 17,
      "outputs": [
        {
          "output_type": "display_data",
          "data": {
            "image/png": "[encoded data removed]",
            "text/plain": [
              "<Figure size 432x288 with 1 Axes>"
            ]
          },
          "metadata": {
            "tags": []
          }
        }
      ]
    },
    {
      "cell_type": "markdown",
      "metadata": {
        "id": "4lXBzciU-Os-",
        "colab_type": "text"
      },
      "source": [
        "#### Cubic Splines\n",
        "\n",
        "Exigeix continuïtat en segones derivades:\n",
        "\n",
        "$$\\mathcal{P}''_{k}(x_{k}) = \\mathcal{P}''_{k-1}(x_k)$$"
      ]
    },
    {
      "cell_type": "markdown",
      "metadata": {
        "id": "tOh03scZ-OtA",
        "colab_type": "text"
      },
      "source": [
        "A partir de la nostra generalització d'abans sabem\n",
        "\n",
        "$$\\mathcal{P}''(s) = 6 (1-2s)(y_{k+1} - y_k) + (6s - 4) d_k + (6s-2) d_{k+1}$$\n",
        "\n",
        "la nostra condició és\n",
        "\n",
        "$$\\mathcal{P}''_{k}(0) = \\mathcal{P}''_{k-1}(1)$$\n",
        "\n",
        "$$\\mathcal{P}''_{k-1}(1) = 6 (1-2 \\cdot 1)(y_{k} - y_{k-1}) + (6\\cdot 1 - 4) d_{k-1} + (6\\cdot 1-2) d_{k}$$\n",
        "\n",
        "$$\\mathcal{P}''_{k}(0) = 6 (1-2 \\cdot 0)(y_{k+1} - y_k) + (6\\cdot 0 - 4) d_k + (6\\cdot 0-2) d_{k+1}$$\n",
        "\n",
        "$$-6(y_{k} - y_{k-1}) + 2 d_{k-1} + 4 d_{k} = 6 (y_{k+1} - y_k) - 4 d_k -2  d_{k+1}$$\n",
        "\n"
      ]
    },
    {
      "cell_type": "markdown",
      "metadata": {
        "id": "nqkTR4Hv-OtB",
        "colab_type": "text"
      },
      "source": [
        "Això dóna un conjunt d'equacions lineals per $d_k$ basades en els valors de $y_k$:\n",
        "\n",
        "$$\\begin{bmatrix}\n",
        "         & \\ddots  & \\ddots  & \\ddots  & &  &\\\\\n",
        "         & 0 & 2 & 8 & 2 & 0 & & \\\\\n",
        "         & & 0 & 2 & 8 & 2 & 0 & & & \\\\\n",
        "         & &   & 0 & 2 & 8 & 2 & 0 & & \\\\\n",
        "         & &    & & & \\ddots & \\ddots & \\ddots &\n",
        "\\end{bmatrix}\\begin{bmatrix}\n",
        "    \\vdots \\\\ d_{k-1} \\\\ d_{k} \\\\ d_{k+1} \\\\ \\vdots\n",
        "\\end{bmatrix} = \\begin{bmatrix}\n",
        "    \\vdots \\\\ 6 (y_{k} - y_{k-2}) \\\\ 6 (y_{k+1} - y_{k-1}) \\\\ 6 (y_{k+2} - y_{k}) \\\\\\vdots\n",
        "\\end{bmatrix}$$\n",
        "\n",
        "Els $d_k$ encara no estan definits i hem d'escollir alguna regla per especificar els seus valors."
      ]
    },
    {
      "cell_type": "code",
      "metadata": {
        "id": "eSBpcbto-OtE",
        "colab_type": "code",
        "colab": {
          "base_uri": "https://localhost:8080/",
          "height": 299
        },
        "outputId": "1a3fbee6-ea44-4824-d116-5c7eb790a128"
      },
      "source": [
        "import scipy.interpolate as interpolate\n",
        "\n",
        "data = numpy.array([[1.0, 3.0], [2.0, 1.0], [3.5, 4.0], [5.0, 0.0], [6.0, 0.5], [9.0, -2.0], [9.5, -3.0]])\n",
        "x = numpy.linspace(0.0, 10, 100)\n",
        "\n",
        "# C^2 Piece-wise Splines\n",
        "# Note that to get an interpolant we need to set the smoothing \n",
        "# parameters *s* to 0\n",
        "P_spline = interpolate.UnivariateSpline(data[:, 0], data[:, 1], s=0)\n",
        "\n",
        "# Plot\n",
        "fig = plt.figure()\n",
        "axes = fig.add_subplot(1, 1, 1)\n",
        "\n",
        "axes.plot(data[:,0], data[:,1], 'ro')\n",
        "axes.plot(x, P_spline(x), 'r')\n",
        "\n",
        "axes.set_title(\"Interpolated Data - $C^2$ Cubic Splines\")\n",
        "axes.set_xlabel(\"x\")\n",
        "axes.set_ylabel(\"$P_3(x)$\")\n",
        "axes.set_xlim([0.0, 10.0])\n",
        "axes.set_ylim([-4.0, 15.0])\n",
        "\n",
        "plt.show()"
      ],
      "execution_count": 18,
      "outputs": [
        {
          "output_type": "display_data",
          "data": {
            "image/png": "[encoded data removed]",
            "text/plain": [
              "<Figure size 432x288 with 1 Axes>"
            ]
          },
          "metadata": {
            "tags": []
          }
        }
      ]
    },
    {
      "cell_type": "code",
      "metadata": {
        "scrolled": true,
        "id": "GXhZ7ze6-OtG",
        "colab_type": "code",
        "colab": {
          "base_uri": "https://localhost:8080/",
          "height": 295
        },
        "outputId": "e203c98c-5e53-42bb-ac06-8f8391430c50"
      },
      "source": [
        "import scipy.interpolate as interpolate\n",
        "\n",
        "data = numpy.array([[1.0, 3.0], [2.0, 1.0], [3.5, 4.0], [5.0, 0.0], [6.0, 0.5], [9.0, -2.0], [9.5, -3.0]])\n",
        "x = numpy.linspace(0.0, 10, 100)\n",
        "\n",
        "# Lagrange Basis\n",
        "N = data.shape[0] - 1\n",
        "\n",
        "lagrange_basis = numpy.ones((N + 1, x.shape[0]))\n",
        "for i in range(N + 1):\n",
        "    for j in range(N + 1):\n",
        "        if i != j:\n",
        "            lagrange_basis[i, :] *= (x - data[j, 0]) / (data[i, 0] - data[j, 0])\n",
        "\n",
        "# Calculate full polynomial\n",
        "P_lagrange = numpy.zeros(x.shape[0])\n",
        "for n in range(N + 1):\n",
        "    P_lagrange += lagrange_basis[n, :] * data[n, 1]\n",
        "\n",
        "# C^0 Piece-wise linear\n",
        "# P_pw_linear = numpy.interp(x, data[:, 0], data[:, 1])\n",
        "P_linear = numpy.zeros(x.shape)\n",
        "for n in range(1, N + 1):\n",
        "    P_linear += ((data[n, 1] - data[n - 1, 1]) / (data[n, 0] - data[n - 1, 0]) * (x - data[n - 1, 0]) \n",
        "                         + data[n - 1, 1]) * (x > data[n - 1, 0]) * (x <= data[n, 0])\n",
        "    \n",
        "# Add end points for continuity\n",
        "P_linear += numpy.ones(x.shape) * data[0, 1] * (x < data[0, 0])\n",
        "P_linear += numpy.ones(x.shape) * data[-1, 1] * (x >= data[-1, 0])\n",
        "# C^0 Piece-wise quadratic\n",
        "P_quadratic = numpy.zeros(x.shape)\n",
        "for k in range(1, N + 1, 2):\n",
        "    p = numpy.polyfit(data[k - 1:k + 2, 0], data[k - 1:k + 2, 1], 2)\n",
        "    P_quadratic += numpy.polyval(p, x) * (x > data[k - 1, 0]) * (x <= data[k + 1, 0])\n",
        "# Add end points for continuity\n",
        "P_quadratic += numpy.ones(x.shape) * data[0, 1] * (x < data[0, 0])\n",
        "P_quadratic += numpy.ones(x.shape) * data[-1, 1] * (x >= data[-1, 0])\n",
        "    \n",
        "# C^1 Piece-wise PCHIP\n",
        "P_pchip = interpolate.pchip_interpolate(data[:, 0], data[:, 1], x)\n",
        "\n",
        "# C^2 Piece-wise Splines\n",
        "P_spline = interpolate.UnivariateSpline(data[:, 0], data[:, 1], s=0)\n",
        "    \n",
        "# Plot\n",
        "fig = plt.figure()\n",
        "axes = fig.add_subplot(1, 1, 1)\n",
        "\n",
        "axes.plot(data[:,0], data[:,1], 'ko', label=\"Data\")\n",
        "axes.plot(x, P_lagrange, 'y', label=\"Lagrange\")\n",
        "axes.plot(x, P_linear, 'g', label=\"PW Linear\") \n",
        "axes.plot(x, P_quadratic, 'r', label=\"PW Quadratic\")\n",
        "axes.plot(x, P_pchip, 'c', label=\"PW Cubic - PCHIP\")\n",
        "axes.plot(x, P_spline(x), 'b', label=\"PW Cubic - Spline\")\n",
        "\n",
        "axes.set_title(\"Interpolated Data - Method Comparisons\")\n",
        "axes.set_xlabel(\"x\")\n",
        "axes.set_ylabel(\"$P(x)$\")\n",
        "axes.legend()\n",
        "axes.set_xlim([0.0, 10.0])\n",
        "axes.set_ylim([-4.0, 15.0])\n",
        "\n",
        "plt.show()"
      ],
      "execution_count": 19,
      "outputs": [
        {
          "output_type": "display_data",
          "data": {
            "image/png": "[encoded data removed]",
            "text/plain": [
              "<Figure size 432x288 with 1 Axes>"
            ]
          },
          "metadata": {
            "tags": []
          }
        }
      ]
    },
    {
      "cell_type": "markdown",
      "metadata": {
        "id": "T9T02Vv7-OtJ",
        "colab_type": "text"
      },
      "source": [
        "## Relació amb la regressió\n",
        "\n",
        "Què fem si tenim més dades i volem un polinomi de grau baix i no volem utilitzar un interpolador a trossos?\n",
        "\n",
        "Les tècniques de regressió són utilitzades normalment per minimitzar algún tipus d'error entre les dades $y_i$ a $x_i$ amb una funció d'aproximació $f(x_i)$. Noteu que això ja NO és interpolació.\n"
      ]
    },
    {
      "cell_type": "markdown",
      "metadata": {
        "id": "YKVu-LHM-OtK",
        "colab_type": "text"
      },
      "source": [
        "### Mínims-quadrats\n",
        "\n",
        "Una manera de fer això és requerir la minimització de l'error mínim quadrat.\n",
        "$$\n",
        "    E = \\left( \\sum^m_{i=1} |y_i - f(x_i)|^2 \\right )^{1/2}.\n",
        "$$"
      ]
    },
    {
      "cell_type": "markdown",
      "metadata": {
        "id": "Qe6o-Sts-OtK",
        "colab_type": "text"
      },
      "source": [
        "Pel que hem vist al principi, si volem fitar una línea\n",
        "\n",
        "$$\n",
        "    \\mathcal{P}_1(x) = p_0 + p_1 x\n",
        "$$\n",
        "a $N$ dades tindríem\n",
        "$$\n",
        "   \\begin{bmatrix}\n",
        "        1 & x_1 \\\\\n",
        "        1 & x_2 \\\\\n",
        "        \\vdots & \\vdots \\\\\n",
        "        1 & x_N\n",
        "   \\end{bmatrix} \\begin{bmatrix}\n",
        "       p_0 \\\\ p_1\n",
        "   \\end{bmatrix} = \\begin{bmatrix}\n",
        "       y_1 \\\\ y_2 \\\\ \\vdots \\\\ y_N\n",
        "   \\end{bmatrix}\n",
        "$$\n",
        "o bé\n",
        "$$\n",
        "    A p = y\n",
        "$$\n",
        "Quin problema hi ha amb aquest sistema?"
      ]
    },
    {
      "cell_type": "markdown",
      "metadata": {
        "id": "TjOw0krc-OtL",
        "colab_type": "text"
      },
      "source": [
        "\n",
        "\n",
        "\n",
        "Això condueix a la probabilitat que no hi hagi cap solució del sistema ja que\n",
        "$$\n",
        "    A \\in \\mathbb{R}^{N \\times 2}, p \\in \\mathbb{R}^{2 \\times 1}, \\text{  i  } y \\in \\mathbb{R}^{N \\times 1}.\n",
        "$$\n",
        "\n",
        "En comptes, podem resoldre el sistema relacionat de mínims quadrats\n",
        "$$\n",
        "    A^T A p = A^T y\n",
        "$$\n",
        "\n",
        "la solució del qual minimitza $E$."
      ]
    },
    {
      "cell_type": "code",
      "metadata": {
        "scrolled": true,
        "id": "QYDwHTCF-OtM",
        "colab_type": "code",
        "colab": {
          "base_uri": "https://localhost:8080/",
          "height": 312
        },
        "outputId": "de45cbc9-f1fb-46ab-a858-27848b505507"
      },
      "source": [
        "# Linear Least Squares Problem\n",
        "N = 50\n",
        "x = numpy.linspace(-1.0, 1.0, N)\n",
        "y = x + numpy.random.random((N)) \n",
        "\n",
        "A = numpy.ones((x.shape[0], 2))\n",
        "A[:, 1] = x\n",
        "p = numpy.linalg.solve(numpy.dot(A.transpose(), A), numpy.dot(A.transpose(), y))\n",
        "# p = numpy.linalg.lstsq(A, y)[0]\n",
        "f = lambda x: p[0] + p[1] * x\n",
        "E = numpy.linalg.norm(y - f(x), ord=2)\n",
        "\n",
        "fig = plt.figure()\n",
        "axes = fig.add_subplot(1, 1, 1)\n",
        "\n",
        "axes.plot(x, y, 'ko')\n",
        "axes.plot(x, f(x), 'r')\n",
        "axes.set_title(\"Least Squares Fit to Data\")\n",
        "axes.set_xlabel(\"$x$\")\n",
        "axes.set_ylabel(\"$f(x)$ and $y_i$\")\n",
        "\n",
        "plt.show()\n",
        "print(\"E = %s\" % E)\n",
        "    "
      ],
      "execution_count": 20,
      "outputs": [
        {
          "output_type": "display_data",
          "data": {
            "image/png": "[encoded data removed]",
            "text/plain": [
              "<Figure size 432x288 with 1 Axes>"
            ]
          },
          "metadata": {
            "tags": []
          }
        },
        {
          "output_type": "stream",
          "text": [
            "E = 2.0515466450103506\n"
          ],
          "name": "stdout"
        }
      ]
    },
    {
      "cell_type": "markdown",
      "metadata": {
        "id": "Fo33LEmh-OtR",
        "colab_type": "text"
      },
      "source": [
        "### Let ye be warned...\n",
        "\n",
        "![curve-fitting methods](https://imgs.xkcd.com/comics/curve_fitting.png)"
      ]
    }
  ]
}